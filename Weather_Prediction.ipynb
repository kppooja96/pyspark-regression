{
  "cells": [
    {
      "cell_type": "code",
      "execution_count": null,
      "metadata": {
        "id": "nFG-8Ph0Q0rH"
      },
      "outputs": [],
      "source": [
        "!pip install -q pyspark==3.1.2"
      ]
    },
    {
      "cell_type": "code",
      "execution_count": null,
      "metadata": {
        "id": "RO3p-7haQ_P5"
      },
      "outputs": [],
      "source": [
        "# Install library for finding Spark\n",
        "!pip install -q findspark"
      ]
    },
    {
      "cell_type": "code",
      "execution_count": null,
      "metadata": {
        "colab": {
          "base_uri": "https://localhost:8080/"
        },
        "id": "TsEjfDQlRCNw",
        "outputId": "2cc786a4-1cd5-4dd3-a0d3-64347056466f"
      },
      "outputs": [
        {
          "output_type": "stream",
          "name": "stdout",
          "text": [
            "Drive already mounted at /content/gdrive; to attempt to forcibly remount, call drive.mount(\"/content/gdrive\", force_remount=True).\n"
          ]
        }
      ],
      "source": [
        "# import all required packages\n",
        "from pyspark.sql.types import *\n",
        "import datetime\n",
        "from pyspark.sql.functions import *\n",
        "from pyspark import SparkContext\n",
        "from pyspark.sql import SQLContext\n",
        "import pandas as pd\n",
        "\n",
        "from google.colab import drive\n",
        "drive.mount('/content/gdrive')\n",
        "\n",
        "# Import the libary\n",
        "import findspark\n",
        "# Initiate findspark\n",
        "findspark.init()\n",
        "# Check the location for Spark\n",
        "findspark.find()\n",
        "\n",
        "import numpy as np\n",
        "import pandas as pd\n",
        "import sklearn.datasets\n",
        "import sklearn.metrics\n",
        "import sklearn.model_selection\n",
        "import sklearn.ensemble\n",
        "from pyspark.ml.feature import StringIndexer, OneHotEncoder, VectorAssembler\n",
        "from pyspark.ml.classification import LogisticRegression, DecisionTreeClassifier, RandomForestClassifier\n",
        "from pyspark.ml import Pipeline\n",
        "from pyspark.mllib.evaluation import MulticlassMetrics\n",
        "from pyspark.ml.tuning import CrossValidator, ParamGridBuilder"
      ]
    },
    {
      "cell_type": "code",
      "execution_count": null,
      "metadata": {
        "colab": {
          "base_uri": "https://localhost:8080/",
          "height": 221
        },
        "id": "hrrvlNqQRFf6",
        "outputId": "17513059-5484-49db-c90e-d264ae64fb3f"
      },
      "outputs": [
        {
          "output_type": "execute_result",
          "data": {
            "text/plain": [
              "<pyspark.sql.session.SparkSession at 0x7f06885b1090>"
            ],
            "text/html": [
              "\n",
              "            <div>\n",
              "                <p><b>SparkSession - in-memory</b></p>\n",
              "                \n",
              "        <div>\n",
              "            <p><b>SparkContext</b></p>\n",
              "\n",
              "            <p><a href=\"http://9cc45304e362:4040\">Spark UI</a></p>\n",
              "\n",
              "            <dl>\n",
              "              <dt>Version</dt>\n",
              "                <dd><code>v3.1.2</code></dd>\n",
              "              <dt>Master</dt>\n",
              "                <dd><code>local[*]</code></dd>\n",
              "              <dt>AppName</dt>\n",
              "                <dd><code>pyspark-shell</code></dd>\n",
              "            </dl>\n",
              "        </div>\n",
              "        \n",
              "            </div>\n",
              "        "
            ]
          },
          "metadata": {},
          "execution_count": 4
        }
      ],
      "source": [
        "# Import SparkSession\n",
        "from pyspark.sql import SparkSession\n",
        "# Create a Spark Session\n",
        "spark = SparkSession.builder.master(\"local[*]\").getOrCreate()\n",
        "# Check Spark Session Information\n",
        "spark"
      ]
    },
    {
      "cell_type": "code",
      "execution_count": null,
      "metadata": {
        "id": "bcEltXfNRkbE"
      },
      "outputs": [],
      "source": [
        "customschema = StructType([\n",
        "StructField(\"Date\", StringType(), True)\n",
        ",StructField(\"Location\", StringType(), True)\n",
        ",StructField(\"MinTemp\", DoubleType(), True)\n",
        ",StructField(\"MaxTemp\", DoubleType(), True)\n",
        ",StructField(\"Rainfall\", DoubleType(), True)\n",
        ",StructField(\"Evaporation\", DoubleType(), True)\n",
        ",StructField(\"Sunshine\", DoubleType(), True)\n",
        ",StructField(\"WindGustDir\", StringType(), True)\n",
        ",StructField(\"WindGustSpeed\", DoubleType(), True)\n",
        ",StructField(\"WindDir9am\", StringType(), True)\n",
        ",StructField(\"WindDir3pm\", StringType(), True)\n",
        ",StructField(\"WindSpeed9am\", DoubleType(), True)\n",
        ",StructField(\"WindSpeed3pm\", DoubleType(), True)\n",
        ",StructField(\"Humidity9am\", DoubleType(), True)\n",
        ",StructField(\"Humidity3pm\", DoubleType(), True)\n",
        ",StructField(\"Pressure9am\", DoubleType(), True)\n",
        ",StructField(\"Pressure3pm\", DoubleType(), True)\n",
        ",StructField('Cloud9am', DoubleType(), True)\n",
        ",StructField('Cloud3pm', DoubleType(), True)\n",
        ",StructField('Temp9am', DoubleType(), True)\n",
        ",StructField('Temp3pm', DoubleType(), True)\n",
        ",StructField('RainToday', StringType(), True)\n",
        ",StructField('RainTomorrow', StringType(), True)\n",
        "])\n",
        "\n",
        "df1 = spark.read.format(\"csv\")\\\n",
        "           .option(\"delimiter\", \",\")\\\n",
        "           .option(\"header\", \"true\")\\\n",
        "           .option(\"multiLine\",\"true\")\\\n",
        "           .option(\"mode\",\"PERMISSIVE\")\\\n",
        "           .option(\"ignoreLeadingWhiteSpace\",\"true\")\\\n",
        "           .option(\"ignoreTrailingWhiteSpace\",\"true\")\\\n",
        "           .option(\"parserLib\",\"UNIVOCITY\")\\\n",
        "           .schema(customschema)\\\n",
        "           .load(\"gdrive/My Drive/Colab Notebooks/Dataset/weatherAUS.csv\")"
      ]
    },
    {
      "cell_type": "code",
      "execution_count": null,
      "metadata": {
        "colab": {
          "base_uri": "https://localhost:8080/"
        },
        "id": "OTNHi3-aRt3Q",
        "outputId": "2f526062-51b5-40ba-a697-6aebcb8b322e"
      },
      "outputs": [
        {
          "output_type": "stream",
          "name": "stdout",
          "text": [
            "+----------+--------+-------+-------+--------+-----------+--------+-----------+-------------+----------+----------+------------+------------+-----------+-----------+-----------+-----------+--------+--------+-------+-------+---------+------------+\n",
            "|      Date|Location|MinTemp|MaxTemp|Rainfall|Evaporation|Sunshine|WindGustDir|WindGustSpeed|WindDir9am|WindDir3pm|WindSpeed9am|WindSpeed3pm|Humidity9am|Humidity3pm|Pressure9am|Pressure3pm|Cloud9am|Cloud3pm|Temp9am|Temp3pm|RainToday|RainTomorrow|\n",
            "+----------+--------+-------+-------+--------+-----------+--------+-----------+-------------+----------+----------+------------+------------+-----------+-----------+-----------+-----------+--------+--------+-------+-------+---------+------------+\n",
            "|2008-12-01|  Albury|   13.4|   22.9|     0.6|       null|    null|          W|         44.0|         W|       WNW|        20.0|        24.0|       71.0|       22.0|     1007.7|     1007.1|     8.0|    null|   16.9|   21.8|       No|          No|\n",
            "|2008-12-02|  Albury|    7.4|   25.1|     0.0|       null|    null|        WNW|         44.0|       NNW|       WSW|         4.0|        22.0|       44.0|       25.0|     1010.6|     1007.8|    null|    null|   17.2|   24.3|       No|          No|\n",
            "|2008-12-03|  Albury|   12.9|   25.7|     0.0|       null|    null|        WSW|         46.0|         W|       WSW|        19.0|        26.0|       38.0|       30.0|     1007.6|     1008.7|    null|     2.0|   21.0|   23.2|       No|          No|\n",
            "|2008-12-04|  Albury|    9.2|   28.0|     0.0|       null|    null|         NE|         24.0|        SE|         E|        11.0|         9.0|       45.0|       16.0|     1017.6|     1012.8|    null|    null|   18.1|   26.5|       No|          No|\n",
            "|2008-12-05|  Albury|   17.5|   32.3|     1.0|       null|    null|          W|         41.0|       ENE|        NW|         7.0|        20.0|       82.0|       33.0|     1010.8|     1006.0|     7.0|     8.0|   17.8|   29.7|       No|          No|\n",
            "|2008-12-06|  Albury|   14.6|   29.7|     0.2|       null|    null|        WNW|         56.0|         W|         W|        19.0|        24.0|       55.0|       23.0|     1009.2|     1005.4|    null|    null|   20.6|   28.9|       No|          No|\n",
            "|2008-12-07|  Albury|   14.3|   25.0|     0.0|       null|    null|          W|         50.0|        SW|         W|        20.0|        24.0|       49.0|       19.0|     1009.6|     1008.2|     1.0|    null|   18.1|   24.6|       No|          No|\n",
            "|2008-12-08|  Albury|    7.7|   26.7|     0.0|       null|    null|          W|         35.0|       SSE|         W|         6.0|        17.0|       48.0|       19.0|     1013.4|     1010.1|    null|    null|   16.3|   25.5|       No|          No|\n",
            "|2008-12-09|  Albury|    9.7|   31.9|     0.0|       null|    null|        NNW|         80.0|        SE|        NW|         7.0|        28.0|       42.0|        9.0|     1008.9|     1003.6|    null|    null|   18.3|   30.2|       No|         Yes|\n",
            "|2008-12-10|  Albury|   13.1|   30.1|     1.4|       null|    null|          W|         28.0|         S|       SSE|        15.0|        11.0|       58.0|       27.0|     1007.0|     1005.7|    null|    null|   20.1|   28.2|      Yes|          No|\n",
            "+----------+--------+-------+-------+--------+-----------+--------+-----------+-------------+----------+----------+------------+------------+-----------+-----------+-----------+-----------+--------+--------+-------+-------+---------+------------+\n",
            "only showing top 10 rows\n",
            "\n"
          ]
        }
      ],
      "source": [
        "df1.cache()\n",
        "df1.show(10)"
      ]
    },
    {
      "cell_type": "markdown",
      "metadata": {
        "id": "NCGuOJ3BVK1P"
      },
      "source": [
        "#### Total number of rows and columns in your data ?"
      ]
    },
    {
      "cell_type": "code",
      "execution_count": null,
      "metadata": {
        "colab": {
          "base_uri": "https://localhost:8080/"
        },
        "id": "yye_sXqQRveL",
        "outputId": "f7da56b1-e0da-4119-8cdc-7a68751aa80b"
      },
      "outputs": [
        {
          "output_type": "stream",
          "name": "stdout",
          "text": [
            "number of row, number of columns = (145460, 23)\n"
          ]
        }
      ],
      "source": [
        "print(f'number of row, number of columns = {(df1.count(), len(df1.columns))}')"
      ]
    },
    {
      "cell_type": "markdown",
      "metadata": {
        "id": "vlbrzusyV5r5"
      },
      "source": [
        "#### Explore individual columns to understand the data by applying group by , filter and statistical functions for numerical columns and describe the insights "
      ]
    },
    {
      "cell_type": "code",
      "execution_count": null,
      "metadata": {
        "colab": {
          "base_uri": "https://localhost:8080/"
        },
        "id": "pFMuev6hTBI0",
        "outputId": "45fed093-cf4d-43ae-9130-87304f517730"
      },
      "outputs": [
        {
          "output_type": "stream",
          "name": "stdout",
          "text": [
            "+-------+----------+--------+-----------------+------------------+-----------------+------------------+------------------+-----------+------------------+----------+----------+------------------+------------------+------------------+-----------------+------------------+------------------+------------------+------------------+------------------+------------------+---------+------------+\n",
            "|summary|      Date|Location|          MinTemp|           MaxTemp|         Rainfall|       Evaporation|          Sunshine|WindGustDir|     WindGustSpeed|WindDir9am|WindDir3pm|      WindSpeed9am|      WindSpeed3pm|       Humidity9am|      Humidity3pm|       Pressure9am|       Pressure3pm|          Cloud9am|          Cloud3pm|           Temp9am|           Temp3pm|RainToday|RainTomorrow|\n",
            "+-------+----------+--------+-----------------+------------------+-----------------+------------------+------------------+-----------+------------------+----------+----------+------------------+------------------+------------------+-----------------+------------------+------------------+------------------+------------------+------------------+------------------+---------+------------+\n",
            "|  count|    145460|  145460|           143975|            144199|           142199|             82670|             75625|     145460|            135197|    145460|    145460|            143693|            142398|            142806|           140953|            130395|            130432|             89572|             86102|            143693|            141851|   145460|      145460|\n",
            "|   mean|      null|    null|12.19403438096871|23.221348275647003|2.360918149917032| 5.468231522922464| 7.611177520661145|       null| 40.03523007167319|      null|      null|14.043425914971502|18.662656778887342| 68.88083133761887| 51.5391158755046|1017.6499397983179|1015.2558888309775|4.4474612602152455| 4.509930082924903|16.990631415587448|21.683390318009447|     null|        null|\n",
            "| stddev|      null|    null|6.398494975663245| 7.119048845979164| 8.47805973772643|4.1937040941517845|3.7854829647401895|       null|13.607062267381453|      null|      null| 8.915375322679417| 8.809800021251553|19.029164451844203|20.79590165602125| 7.106530287523052| 7.037413808168252|2.8871588535172426|2.7203573103324774| 6.488753140877319| 6.936650460035552|     null|        null|\n",
            "|    min|2007-11-01|Adelaide|             -8.5|              -4.8|              0.0|               0.0|               0.0|          E|               6.0|         E|         E|               0.0|               0.0|               0.0|              0.0|             980.5|             977.1|               0.0|               0.0|              -7.2|              -5.4|       NA|          NA|\n",
            "|    max|2017-06-25| Woomera|             33.9|              48.1|            371.0|             145.0|              14.5|        WSW|             135.0|       WSW|       WSW|             130.0|              87.0|             100.0|            100.0|            1041.0|            1039.6|               9.0|               9.0|              40.2|              46.7|      Yes|         Yes|\n",
            "+-------+----------+--------+-----------------+------------------+-----------------+------------------+------------------+-----------+------------------+----------+----------+------------------+------------------+------------------+-----------------+------------------+------------------+------------------+------------------+------------------+------------------+---------+------------+\n",
            "\n"
          ]
        }
      ],
      "source": [
        "df1.describe().show()"
      ]
    },
    {
      "cell_type": "code",
      "source": [
        "df1.groupBy('WindGustDir').count().orderBy('WindGustDir').sort('count', ascending = False).show()"
      ],
      "metadata": {
        "colab": {
          "base_uri": "https://localhost:8080/"
        },
        "id": "r53tyM1GpHVt",
        "outputId": "e62135ff-453b-4180-cdd7-e9a99dfd2b93"
      },
      "execution_count": null,
      "outputs": [
        {
          "output_type": "stream",
          "name": "stdout",
          "text": [
            "+-----------+-----+\n",
            "|WindGustDir|count|\n",
            "+-----------+-----+\n",
            "|         NA|10326|\n",
            "|          W| 9915|\n",
            "|         SE| 9418|\n",
            "|          N| 9313|\n",
            "|        SSE| 9216|\n",
            "|          E| 9181|\n",
            "|          S| 9168|\n",
            "|        WSW| 9069|\n",
            "|         SW| 8967|\n",
            "|        SSW| 8736|\n",
            "|        WNW| 8252|\n",
            "|         NW| 8122|\n",
            "|        ENE| 8104|\n",
            "|        ESE| 7372|\n",
            "|         NE| 7133|\n",
            "|        NNW| 6620|\n",
            "|        NNE| 6548|\n",
            "+-----------+-----+\n",
            "\n"
          ]
        }
      ]
    },
    {
      "cell_type": "markdown",
      "source": [
        "Shows that max windgust direction is with West and South-East direction in out dataset"
      ],
      "metadata": {
        "id": "EOLX8LFMpwip"
      }
    },
    {
      "cell_type": "code",
      "source": [
        "df1.groupBy('RainToday').count().orderBy('RainToday').sort('count', ascending = False).show()"
      ],
      "metadata": {
        "colab": {
          "base_uri": "https://localhost:8080/"
        },
        "id": "HIzDITgMpUDR",
        "outputId": "a6b49322-abb2-4b39-eddc-2d591b1e309c"
      },
      "execution_count": null,
      "outputs": [
        {
          "output_type": "stream",
          "name": "stdout",
          "text": [
            "+---------+------+\n",
            "|RainToday| count|\n",
            "+---------+------+\n",
            "|       No|110319|\n",
            "|      Yes| 31880|\n",
            "|       NA|  3261|\n",
            "+---------+------+\n",
            "\n"
          ]
        }
      ]
    },
    {
      "cell_type": "markdown",
      "source": [
        "Our dataset has alomost 70% of No values and 30% of yes values for raintoday column, this shows that our data is not equally distributed."
      ],
      "metadata": {
        "id": "NiFvVhThp_TO"
      }
    },
    {
      "cell_type": "code",
      "execution_count": null,
      "metadata": {
        "id": "qIJuliWqxTNB"
      },
      "outputs": [],
      "source": [
        "#Creating Table\n",
        "df1.registerTempTable('Table')\n",
        "sqlContext = SQLContext(spark)\n",
        "\n",
        "df2 = sqlContext.sql(\"SELECT * from Table\").toPandas()"
      ]
    },
    {
      "cell_type": "markdown",
      "metadata": {
        "id": "t0GJ2sJ36JM5"
      },
      "source": [
        "#### Checks the temperature details given date when temperature is greater than 22"
      ]
    },
    {
      "cell_type": "code",
      "execution_count": null,
      "metadata": {
        "colab": {
          "base_uri": "https://localhost:8080/",
          "height": 206
        },
        "id": "wvbCwKBc2GG0",
        "outputId": "09abbea5-cd31-4d01-d048-8c5e7d780242"
      },
      "outputs": [
        {
          "output_type": "execute_result",
          "data": {
            "text/plain": [
              "         Date  MaxTemp  MinTemp\n",
              "0  2008-12-01     22.9     13.4\n",
              "1  2008-12-02     25.1      7.4\n",
              "2  2008-12-03     25.7     12.9\n",
              "3  2008-12-04     28.0      9.2\n",
              "4  2008-12-05     32.3     17.5"
            ],
            "text/html": [
              "\n",
              "  <div id=\"df-8a5e1752-70cf-4512-8c89-1b4eff1eaac7\">\n",
              "    <div class=\"colab-df-container\">\n",
              "      <div>\n",
              "<style scoped>\n",
              "    .dataframe tbody tr th:only-of-type {\n",
              "        vertical-align: middle;\n",
              "    }\n",
              "\n",
              "    .dataframe tbody tr th {\n",
              "        vertical-align: top;\n",
              "    }\n",
              "\n",
              "    .dataframe thead th {\n",
              "        text-align: right;\n",
              "    }\n",
              "</style>\n",
              "<table border=\"1\" class=\"dataframe\">\n",
              "  <thead>\n",
              "    <tr style=\"text-align: right;\">\n",
              "      <th></th>\n",
              "      <th>Date</th>\n",
              "      <th>MaxTemp</th>\n",
              "      <th>MinTemp</th>\n",
              "    </tr>\n",
              "  </thead>\n",
              "  <tbody>\n",
              "    <tr>\n",
              "      <th>0</th>\n",
              "      <td>2008-12-01</td>\n",
              "      <td>22.9</td>\n",
              "      <td>13.4</td>\n",
              "    </tr>\n",
              "    <tr>\n",
              "      <th>1</th>\n",
              "      <td>2008-12-02</td>\n",
              "      <td>25.1</td>\n",
              "      <td>7.4</td>\n",
              "    </tr>\n",
              "    <tr>\n",
              "      <th>2</th>\n",
              "      <td>2008-12-03</td>\n",
              "      <td>25.7</td>\n",
              "      <td>12.9</td>\n",
              "    </tr>\n",
              "    <tr>\n",
              "      <th>3</th>\n",
              "      <td>2008-12-04</td>\n",
              "      <td>28.0</td>\n",
              "      <td>9.2</td>\n",
              "    </tr>\n",
              "    <tr>\n",
              "      <th>4</th>\n",
              "      <td>2008-12-05</td>\n",
              "      <td>32.3</td>\n",
              "      <td>17.5</td>\n",
              "    </tr>\n",
              "  </tbody>\n",
              "</table>\n",
              "</div>\n",
              "      <button class=\"colab-df-convert\" onclick=\"convertToInteractive('df-8a5e1752-70cf-4512-8c89-1b4eff1eaac7')\"\n",
              "              title=\"Convert this dataframe to an interactive table.\"\n",
              "              style=\"display:none;\">\n",
              "        \n",
              "  <svg xmlns=\"http://www.w3.org/2000/svg\" height=\"24px\"viewBox=\"0 0 24 24\"\n",
              "       width=\"24px\">\n",
              "    <path d=\"M0 0h24v24H0V0z\" fill=\"none\"/>\n",
              "    <path d=\"M18.56 5.44l.94 2.06.94-2.06 2.06-.94-2.06-.94-.94-2.06-.94 2.06-2.06.94zm-11 1L8.5 8.5l.94-2.06 2.06-.94-2.06-.94L8.5 2.5l-.94 2.06-2.06.94zm10 10l.94 2.06.94-2.06 2.06-.94-2.06-.94-.94-2.06-.94 2.06-2.06.94z\"/><path d=\"M17.41 7.96l-1.37-1.37c-.4-.4-.92-.59-1.43-.59-.52 0-1.04.2-1.43.59L10.3 9.45l-7.72 7.72c-.78.78-.78 2.05 0 2.83L4 21.41c.39.39.9.59 1.41.59.51 0 1.02-.2 1.41-.59l7.78-7.78 2.81-2.81c.8-.78.8-2.07 0-2.86zM5.41 20L4 18.59l7.72-7.72 1.47 1.35L5.41 20z\"/>\n",
              "  </svg>\n",
              "      </button>\n",
              "      \n",
              "  <style>\n",
              "    .colab-df-container {\n",
              "      display:flex;\n",
              "      flex-wrap:wrap;\n",
              "      gap: 12px;\n",
              "    }\n",
              "\n",
              "    .colab-df-convert {\n",
              "      background-color: #E8F0FE;\n",
              "      border: none;\n",
              "      border-radius: 50%;\n",
              "      cursor: pointer;\n",
              "      display: none;\n",
              "      fill: #1967D2;\n",
              "      height: 32px;\n",
              "      padding: 0 0 0 0;\n",
              "      width: 32px;\n",
              "    }\n",
              "\n",
              "    .colab-df-convert:hover {\n",
              "      background-color: #E2EBFA;\n",
              "      box-shadow: 0px 1px 2px rgba(60, 64, 67, 0.3), 0px 1px 3px 1px rgba(60, 64, 67, 0.15);\n",
              "      fill: #174EA6;\n",
              "    }\n",
              "\n",
              "    [theme=dark] .colab-df-convert {\n",
              "      background-color: #3B4455;\n",
              "      fill: #D2E3FC;\n",
              "    }\n",
              "\n",
              "    [theme=dark] .colab-df-convert:hover {\n",
              "      background-color: #434B5C;\n",
              "      box-shadow: 0px 1px 3px 1px rgba(0, 0, 0, 0.15);\n",
              "      filter: drop-shadow(0px 1px 2px rgba(0, 0, 0, 0.3));\n",
              "      fill: #FFFFFF;\n",
              "    }\n",
              "  </style>\n",
              "\n",
              "      <script>\n",
              "        const buttonEl =\n",
              "          document.querySelector('#df-8a5e1752-70cf-4512-8c89-1b4eff1eaac7 button.colab-df-convert');\n",
              "        buttonEl.style.display =\n",
              "          google.colab.kernel.accessAllowed ? 'block' : 'none';\n",
              "\n",
              "        async function convertToInteractive(key) {\n",
              "          const element = document.querySelector('#df-8a5e1752-70cf-4512-8c89-1b4eff1eaac7');\n",
              "          const dataTable =\n",
              "            await google.colab.kernel.invokeFunction('convertToInteractive',\n",
              "                                                     [key], {});\n",
              "          if (!dataTable) return;\n",
              "\n",
              "          const docLinkHtml = 'Like what you see? Visit the ' +\n",
              "            '<a target=\"_blank\" href=https://colab.research.google.com/notebooks/data_table.ipynb>data table notebook</a>'\n",
              "            + ' to learn more about interactive tables.';\n",
              "          element.innerHTML = '';\n",
              "          dataTable['output_type'] = 'display_data';\n",
              "          await google.colab.output.renderOutput(dataTable, element);\n",
              "          const docLink = document.createElement('div');\n",
              "          docLink.innerHTML = docLinkHtml;\n",
              "          element.appendChild(docLink);\n",
              "        }\n",
              "      </script>\n",
              "    </div>\n",
              "  </div>\n",
              "  "
            ]
          },
          "metadata": {},
          "execution_count": 12
        }
      ],
      "source": [
        "sqlContext.sql(\"SELECT Date, MaxTemp,MinTemp from Table where MaxTemp > 22.0\").toPandas().head()"
      ]
    },
    {
      "cell_type": "markdown",
      "metadata": {
        "id": "-OhLnkyK6O1T"
      },
      "source": [
        "##### Checks the temperature details for given date when temperature was less than 0.0"
      ]
    },
    {
      "cell_type": "code",
      "execution_count": null,
      "metadata": {
        "colab": {
          "base_uri": "https://localhost:8080/",
          "height": 206
        },
        "id": "RMze-_ZQ2ghv",
        "outputId": "22d0e285-8be4-4d36-f2ff-f6b887c0105b"
      },
      "outputs": [
        {
          "output_type": "execute_result",
          "data": {
            "text/plain": [
              "         Date  MinTemp  MaxTemp\n",
              "0  2009-06-11     -2.0      9.6\n",
              "1  2009-06-12     -1.3      8.2\n",
              "2  2009-07-07     -1.5     12.5\n",
              "3  2009-07-08     -1.7     13.8\n",
              "4  2009-07-09     -0.4     15.0"
            ],
            "text/html": [
              "\n",
              "  <div id=\"df-8216a70f-fdfd-4751-89f7-37c0d65cad13\">\n",
              "    <div class=\"colab-df-container\">\n",
              "      <div>\n",
              "<style scoped>\n",
              "    .dataframe tbody tr th:only-of-type {\n",
              "        vertical-align: middle;\n",
              "    }\n",
              "\n",
              "    .dataframe tbody tr th {\n",
              "        vertical-align: top;\n",
              "    }\n",
              "\n",
              "    .dataframe thead th {\n",
              "        text-align: right;\n",
              "    }\n",
              "</style>\n",
              "<table border=\"1\" class=\"dataframe\">\n",
              "  <thead>\n",
              "    <tr style=\"text-align: right;\">\n",
              "      <th></th>\n",
              "      <th>Date</th>\n",
              "      <th>MinTemp</th>\n",
              "      <th>MaxTemp</th>\n",
              "    </tr>\n",
              "  </thead>\n",
              "  <tbody>\n",
              "    <tr>\n",
              "      <th>0</th>\n",
              "      <td>2009-06-11</td>\n",
              "      <td>-2.0</td>\n",
              "      <td>9.6</td>\n",
              "    </tr>\n",
              "    <tr>\n",
              "      <th>1</th>\n",
              "      <td>2009-06-12</td>\n",
              "      <td>-1.3</td>\n",
              "      <td>8.2</td>\n",
              "    </tr>\n",
              "    <tr>\n",
              "      <th>2</th>\n",
              "      <td>2009-07-07</td>\n",
              "      <td>-1.5</td>\n",
              "      <td>12.5</td>\n",
              "    </tr>\n",
              "    <tr>\n",
              "      <th>3</th>\n",
              "      <td>2009-07-08</td>\n",
              "      <td>-1.7</td>\n",
              "      <td>13.8</td>\n",
              "    </tr>\n",
              "    <tr>\n",
              "      <th>4</th>\n",
              "      <td>2009-07-09</td>\n",
              "      <td>-0.4</td>\n",
              "      <td>15.0</td>\n",
              "    </tr>\n",
              "  </tbody>\n",
              "</table>\n",
              "</div>\n",
              "      <button class=\"colab-df-convert\" onclick=\"convertToInteractive('df-8216a70f-fdfd-4751-89f7-37c0d65cad13')\"\n",
              "              title=\"Convert this dataframe to an interactive table.\"\n",
              "              style=\"display:none;\">\n",
              "        \n",
              "  <svg xmlns=\"http://www.w3.org/2000/svg\" height=\"24px\"viewBox=\"0 0 24 24\"\n",
              "       width=\"24px\">\n",
              "    <path d=\"M0 0h24v24H0V0z\" fill=\"none\"/>\n",
              "    <path d=\"M18.56 5.44l.94 2.06.94-2.06 2.06-.94-2.06-.94-.94-2.06-.94 2.06-2.06.94zm-11 1L8.5 8.5l.94-2.06 2.06-.94-2.06-.94L8.5 2.5l-.94 2.06-2.06.94zm10 10l.94 2.06.94-2.06 2.06-.94-2.06-.94-.94-2.06-.94 2.06-2.06.94z\"/><path d=\"M17.41 7.96l-1.37-1.37c-.4-.4-.92-.59-1.43-.59-.52 0-1.04.2-1.43.59L10.3 9.45l-7.72 7.72c-.78.78-.78 2.05 0 2.83L4 21.41c.39.39.9.59 1.41.59.51 0 1.02-.2 1.41-.59l7.78-7.78 2.81-2.81c.8-.78.8-2.07 0-2.86zM5.41 20L4 18.59l7.72-7.72 1.47 1.35L5.41 20z\"/>\n",
              "  </svg>\n",
              "      </button>\n",
              "      \n",
              "  <style>\n",
              "    .colab-df-container {\n",
              "      display:flex;\n",
              "      flex-wrap:wrap;\n",
              "      gap: 12px;\n",
              "    }\n",
              "\n",
              "    .colab-df-convert {\n",
              "      background-color: #E8F0FE;\n",
              "      border: none;\n",
              "      border-radius: 50%;\n",
              "      cursor: pointer;\n",
              "      display: none;\n",
              "      fill: #1967D2;\n",
              "      height: 32px;\n",
              "      padding: 0 0 0 0;\n",
              "      width: 32px;\n",
              "    }\n",
              "\n",
              "    .colab-df-convert:hover {\n",
              "      background-color: #E2EBFA;\n",
              "      box-shadow: 0px 1px 2px rgba(60, 64, 67, 0.3), 0px 1px 3px 1px rgba(60, 64, 67, 0.15);\n",
              "      fill: #174EA6;\n",
              "    }\n",
              "\n",
              "    [theme=dark] .colab-df-convert {\n",
              "      background-color: #3B4455;\n",
              "      fill: #D2E3FC;\n",
              "    }\n",
              "\n",
              "    [theme=dark] .colab-df-convert:hover {\n",
              "      background-color: #434B5C;\n",
              "      box-shadow: 0px 1px 3px 1px rgba(0, 0, 0, 0.15);\n",
              "      filter: drop-shadow(0px 1px 2px rgba(0, 0, 0, 0.3));\n",
              "      fill: #FFFFFF;\n",
              "    }\n",
              "  </style>\n",
              "\n",
              "      <script>\n",
              "        const buttonEl =\n",
              "          document.querySelector('#df-8216a70f-fdfd-4751-89f7-37c0d65cad13 button.colab-df-convert');\n",
              "        buttonEl.style.display =\n",
              "          google.colab.kernel.accessAllowed ? 'block' : 'none';\n",
              "\n",
              "        async function convertToInteractive(key) {\n",
              "          const element = document.querySelector('#df-8216a70f-fdfd-4751-89f7-37c0d65cad13');\n",
              "          const dataTable =\n",
              "            await google.colab.kernel.invokeFunction('convertToInteractive',\n",
              "                                                     [key], {});\n",
              "          if (!dataTable) return;\n",
              "\n",
              "          const docLinkHtml = 'Like what you see? Visit the ' +\n",
              "            '<a target=\"_blank\" href=https://colab.research.google.com/notebooks/data_table.ipynb>data table notebook</a>'\n",
              "            + ' to learn more about interactive tables.';\n",
              "          element.innerHTML = '';\n",
              "          dataTable['output_type'] = 'display_data';\n",
              "          await google.colab.output.renderOutput(dataTable, element);\n",
              "          const docLink = document.createElement('div');\n",
              "          docLink.innerHTML = docLinkHtml;\n",
              "          element.appendChild(docLink);\n",
              "        }\n",
              "      </script>\n",
              "    </div>\n",
              "  </div>\n",
              "  "
            ]
          },
          "metadata": {},
          "execution_count": 13
        }
      ],
      "source": [
        "sqlContext.sql(\"SELECT Date, MinTemp,MaxTemp from Table where MinTemp < 0.0\").toPandas().head()"
      ]
    },
    {
      "cell_type": "markdown",
      "metadata": {
        "id": "WBouT7mx6etM"
      },
      "source": [
        "#### Locations with Max Temperature"
      ]
    },
    {
      "cell_type": "code",
      "execution_count": null,
      "metadata": {
        "colab": {
          "base_uri": "https://localhost:8080/",
          "height": 206
        },
        "id": "m3JpXbDt24SU",
        "outputId": "5cc05c1c-caff-4946-d5ec-e909d72ab860"
      },
      "outputs": [
        {
          "output_type": "execute_result",
          "data": {
            "text/plain": [
              "           Location  Temperature\n",
              "0           Woomera         48.1\n",
              "1             Moree         47.3\n",
              "2          Richmond         47.0\n",
              "3           Penrith         46.9\n",
              "4  MelbourneAirport         46.8"
            ],
            "text/html": [
              "\n",
              "  <div id=\"df-2887f793-33bf-4318-84e5-614f5cdba866\">\n",
              "    <div class=\"colab-df-container\">\n",
              "      <div>\n",
              "<style scoped>\n",
              "    .dataframe tbody tr th:only-of-type {\n",
              "        vertical-align: middle;\n",
              "    }\n",
              "\n",
              "    .dataframe tbody tr th {\n",
              "        vertical-align: top;\n",
              "    }\n",
              "\n",
              "    .dataframe thead th {\n",
              "        text-align: right;\n",
              "    }\n",
              "</style>\n",
              "<table border=\"1\" class=\"dataframe\">\n",
              "  <thead>\n",
              "    <tr style=\"text-align: right;\">\n",
              "      <th></th>\n",
              "      <th>Location</th>\n",
              "      <th>Temperature</th>\n",
              "    </tr>\n",
              "  </thead>\n",
              "  <tbody>\n",
              "    <tr>\n",
              "      <th>0</th>\n",
              "      <td>Woomera</td>\n",
              "      <td>48.1</td>\n",
              "    </tr>\n",
              "    <tr>\n",
              "      <th>1</th>\n",
              "      <td>Moree</td>\n",
              "      <td>47.3</td>\n",
              "    </tr>\n",
              "    <tr>\n",
              "      <th>2</th>\n",
              "      <td>Richmond</td>\n",
              "      <td>47.0</td>\n",
              "    </tr>\n",
              "    <tr>\n",
              "      <th>3</th>\n",
              "      <td>Penrith</td>\n",
              "      <td>46.9</td>\n",
              "    </tr>\n",
              "    <tr>\n",
              "      <th>4</th>\n",
              "      <td>MelbourneAirport</td>\n",
              "      <td>46.8</td>\n",
              "    </tr>\n",
              "  </tbody>\n",
              "</table>\n",
              "</div>\n",
              "      <button class=\"colab-df-convert\" onclick=\"convertToInteractive('df-2887f793-33bf-4318-84e5-614f5cdba866')\"\n",
              "              title=\"Convert this dataframe to an interactive table.\"\n",
              "              style=\"display:none;\">\n",
              "        \n",
              "  <svg xmlns=\"http://www.w3.org/2000/svg\" height=\"24px\"viewBox=\"0 0 24 24\"\n",
              "       width=\"24px\">\n",
              "    <path d=\"M0 0h24v24H0V0z\" fill=\"none\"/>\n",
              "    <path d=\"M18.56 5.44l.94 2.06.94-2.06 2.06-.94-2.06-.94-.94-2.06-.94 2.06-2.06.94zm-11 1L8.5 8.5l.94-2.06 2.06-.94-2.06-.94L8.5 2.5l-.94 2.06-2.06.94zm10 10l.94 2.06.94-2.06 2.06-.94-2.06-.94-.94-2.06-.94 2.06-2.06.94z\"/><path d=\"M17.41 7.96l-1.37-1.37c-.4-.4-.92-.59-1.43-.59-.52 0-1.04.2-1.43.59L10.3 9.45l-7.72 7.72c-.78.78-.78 2.05 0 2.83L4 21.41c.39.39.9.59 1.41.59.51 0 1.02-.2 1.41-.59l7.78-7.78 2.81-2.81c.8-.78.8-2.07 0-2.86zM5.41 20L4 18.59l7.72-7.72 1.47 1.35L5.41 20z\"/>\n",
              "  </svg>\n",
              "      </button>\n",
              "      \n",
              "  <style>\n",
              "    .colab-df-container {\n",
              "      display:flex;\n",
              "      flex-wrap:wrap;\n",
              "      gap: 12px;\n",
              "    }\n",
              "\n",
              "    .colab-df-convert {\n",
              "      background-color: #E8F0FE;\n",
              "      border: none;\n",
              "      border-radius: 50%;\n",
              "      cursor: pointer;\n",
              "      display: none;\n",
              "      fill: #1967D2;\n",
              "      height: 32px;\n",
              "      padding: 0 0 0 0;\n",
              "      width: 32px;\n",
              "    }\n",
              "\n",
              "    .colab-df-convert:hover {\n",
              "      background-color: #E2EBFA;\n",
              "      box-shadow: 0px 1px 2px rgba(60, 64, 67, 0.3), 0px 1px 3px 1px rgba(60, 64, 67, 0.15);\n",
              "      fill: #174EA6;\n",
              "    }\n",
              "\n",
              "    [theme=dark] .colab-df-convert {\n",
              "      background-color: #3B4455;\n",
              "      fill: #D2E3FC;\n",
              "    }\n",
              "\n",
              "    [theme=dark] .colab-df-convert:hover {\n",
              "      background-color: #434B5C;\n",
              "      box-shadow: 0px 1px 3px 1px rgba(0, 0, 0, 0.15);\n",
              "      filter: drop-shadow(0px 1px 2px rgba(0, 0, 0, 0.3));\n",
              "      fill: #FFFFFF;\n",
              "    }\n",
              "  </style>\n",
              "\n",
              "      <script>\n",
              "        const buttonEl =\n",
              "          document.querySelector('#df-2887f793-33bf-4318-84e5-614f5cdba866 button.colab-df-convert');\n",
              "        buttonEl.style.display =\n",
              "          google.colab.kernel.accessAllowed ? 'block' : 'none';\n",
              "\n",
              "        async function convertToInteractive(key) {\n",
              "          const element = document.querySelector('#df-2887f793-33bf-4318-84e5-614f5cdba866');\n",
              "          const dataTable =\n",
              "            await google.colab.kernel.invokeFunction('convertToInteractive',\n",
              "                                                     [key], {});\n",
              "          if (!dataTable) return;\n",
              "\n",
              "          const docLinkHtml = 'Like what you see? Visit the ' +\n",
              "            '<a target=\"_blank\" href=https://colab.research.google.com/notebooks/data_table.ipynb>data table notebook</a>'\n",
              "            + ' to learn more about interactive tables.';\n",
              "          element.innerHTML = '';\n",
              "          dataTable['output_type'] = 'display_data';\n",
              "          await google.colab.output.renderOutput(dataTable, element);\n",
              "          const docLink = document.createElement('div');\n",
              "          docLink.innerHTML = docLinkHtml;\n",
              "          element.appendChild(docLink);\n",
              "        }\n",
              "      </script>\n",
              "    </div>\n",
              "  </div>\n",
              "  "
            ]
          },
          "metadata": {},
          "execution_count": 14
        }
      ],
      "source": [
        "query = f'''select Location, max(MaxTemp) as Temperature\n",
        "from table\n",
        "group by(Location)\n",
        "order by max(MaxTemp) DESC;'''\n",
        "sqlContext.sql(query).toPandas().head(5)"
      ]
    },
    {
      "cell_type": "markdown",
      "metadata": {
        "id": "NmXyJse_6kEJ"
      },
      "source": [
        "#### Locations with Min Temeperature"
      ]
    },
    {
      "cell_type": "code",
      "execution_count": null,
      "metadata": {
        "colab": {
          "base_uri": "https://localhost:8080/",
          "height": 206
        },
        "id": "UFMupxJZ3zoQ",
        "outputId": "95784fbb-80ac-4828-e005-de36cf067144"
      },
      "outputs": [
        {
          "output_type": "execute_result",
          "data": {
            "text/plain": [
              "       Location  Temperature\n",
              "0   MountGinini         -8.5\n",
              "1   Tuggeranong         -8.2\n",
              "2      Canberra         -8.0\n",
              "3      Ballarat         -5.6\n",
              "4  AliceSprings         -5.2"
            ],
            "text/html": [
              "\n",
              "  <div id=\"df-6e8020ea-2d50-4a5e-9e0b-04e6b8201eae\">\n",
              "    <div class=\"colab-df-container\">\n",
              "      <div>\n",
              "<style scoped>\n",
              "    .dataframe tbody tr th:only-of-type {\n",
              "        vertical-align: middle;\n",
              "    }\n",
              "\n",
              "    .dataframe tbody tr th {\n",
              "        vertical-align: top;\n",
              "    }\n",
              "\n",
              "    .dataframe thead th {\n",
              "        text-align: right;\n",
              "    }\n",
              "</style>\n",
              "<table border=\"1\" class=\"dataframe\">\n",
              "  <thead>\n",
              "    <tr style=\"text-align: right;\">\n",
              "      <th></th>\n",
              "      <th>Location</th>\n",
              "      <th>Temperature</th>\n",
              "    </tr>\n",
              "  </thead>\n",
              "  <tbody>\n",
              "    <tr>\n",
              "      <th>0</th>\n",
              "      <td>MountGinini</td>\n",
              "      <td>-8.5</td>\n",
              "    </tr>\n",
              "    <tr>\n",
              "      <th>1</th>\n",
              "      <td>Tuggeranong</td>\n",
              "      <td>-8.2</td>\n",
              "    </tr>\n",
              "    <tr>\n",
              "      <th>2</th>\n",
              "      <td>Canberra</td>\n",
              "      <td>-8.0</td>\n",
              "    </tr>\n",
              "    <tr>\n",
              "      <th>3</th>\n",
              "      <td>Ballarat</td>\n",
              "      <td>-5.6</td>\n",
              "    </tr>\n",
              "    <tr>\n",
              "      <th>4</th>\n",
              "      <td>AliceSprings</td>\n",
              "      <td>-5.2</td>\n",
              "    </tr>\n",
              "  </tbody>\n",
              "</table>\n",
              "</div>\n",
              "      <button class=\"colab-df-convert\" onclick=\"convertToInteractive('df-6e8020ea-2d50-4a5e-9e0b-04e6b8201eae')\"\n",
              "              title=\"Convert this dataframe to an interactive table.\"\n",
              "              style=\"display:none;\">\n",
              "        \n",
              "  <svg xmlns=\"http://www.w3.org/2000/svg\" height=\"24px\"viewBox=\"0 0 24 24\"\n",
              "       width=\"24px\">\n",
              "    <path d=\"M0 0h24v24H0V0z\" fill=\"none\"/>\n",
              "    <path d=\"M18.56 5.44l.94 2.06.94-2.06 2.06-.94-2.06-.94-.94-2.06-.94 2.06-2.06.94zm-11 1L8.5 8.5l.94-2.06 2.06-.94-2.06-.94L8.5 2.5l-.94 2.06-2.06.94zm10 10l.94 2.06.94-2.06 2.06-.94-2.06-.94-.94-2.06-.94 2.06-2.06.94z\"/><path d=\"M17.41 7.96l-1.37-1.37c-.4-.4-.92-.59-1.43-.59-.52 0-1.04.2-1.43.59L10.3 9.45l-7.72 7.72c-.78.78-.78 2.05 0 2.83L4 21.41c.39.39.9.59 1.41.59.51 0 1.02-.2 1.41-.59l7.78-7.78 2.81-2.81c.8-.78.8-2.07 0-2.86zM5.41 20L4 18.59l7.72-7.72 1.47 1.35L5.41 20z\"/>\n",
              "  </svg>\n",
              "      </button>\n",
              "      \n",
              "  <style>\n",
              "    .colab-df-container {\n",
              "      display:flex;\n",
              "      flex-wrap:wrap;\n",
              "      gap: 12px;\n",
              "    }\n",
              "\n",
              "    .colab-df-convert {\n",
              "      background-color: #E8F0FE;\n",
              "      border: none;\n",
              "      border-radius: 50%;\n",
              "      cursor: pointer;\n",
              "      display: none;\n",
              "      fill: #1967D2;\n",
              "      height: 32px;\n",
              "      padding: 0 0 0 0;\n",
              "      width: 32px;\n",
              "    }\n",
              "\n",
              "    .colab-df-convert:hover {\n",
              "      background-color: #E2EBFA;\n",
              "      box-shadow: 0px 1px 2px rgba(60, 64, 67, 0.3), 0px 1px 3px 1px rgba(60, 64, 67, 0.15);\n",
              "      fill: #174EA6;\n",
              "    }\n",
              "\n",
              "    [theme=dark] .colab-df-convert {\n",
              "      background-color: #3B4455;\n",
              "      fill: #D2E3FC;\n",
              "    }\n",
              "\n",
              "    [theme=dark] .colab-df-convert:hover {\n",
              "      background-color: #434B5C;\n",
              "      box-shadow: 0px 1px 3px 1px rgba(0, 0, 0, 0.15);\n",
              "      filter: drop-shadow(0px 1px 2px rgba(0, 0, 0, 0.3));\n",
              "      fill: #FFFFFF;\n",
              "    }\n",
              "  </style>\n",
              "\n",
              "      <script>\n",
              "        const buttonEl =\n",
              "          document.querySelector('#df-6e8020ea-2d50-4a5e-9e0b-04e6b8201eae button.colab-df-convert');\n",
              "        buttonEl.style.display =\n",
              "          google.colab.kernel.accessAllowed ? 'block' : 'none';\n",
              "\n",
              "        async function convertToInteractive(key) {\n",
              "          const element = document.querySelector('#df-6e8020ea-2d50-4a5e-9e0b-04e6b8201eae');\n",
              "          const dataTable =\n",
              "            await google.colab.kernel.invokeFunction('convertToInteractive',\n",
              "                                                     [key], {});\n",
              "          if (!dataTable) return;\n",
              "\n",
              "          const docLinkHtml = 'Like what you see? Visit the ' +\n",
              "            '<a target=\"_blank\" href=https://colab.research.google.com/notebooks/data_table.ipynb>data table notebook</a>'\n",
              "            + ' to learn more about interactive tables.';\n",
              "          element.innerHTML = '';\n",
              "          dataTable['output_type'] = 'display_data';\n",
              "          await google.colab.output.renderOutput(dataTable, element);\n",
              "          const docLink = document.createElement('div');\n",
              "          docLink.innerHTML = docLinkHtml;\n",
              "          element.appendChild(docLink);\n",
              "        }\n",
              "      </script>\n",
              "    </div>\n",
              "  </div>\n",
              "  "
            ]
          },
          "metadata": {},
          "execution_count": 15
        }
      ],
      "source": [
        "query1 = f'''select Location, min(MinTemp) as Temperature\n",
        "from table\n",
        "group by(Location)\n",
        "order by min(MinTemp) ASC;'''\n",
        "sqlContext.sql(query1).toPandas().head(5)"
      ]
    },
    {
      "cell_type": "markdown",
      "metadata": {
        "id": "nws8xOGg6uMn"
      },
      "source": [
        "#### Relation between Rainfall and WindGustSpeed for given area"
      ]
    },
    {
      "cell_type": "code",
      "execution_count": null,
      "metadata": {
        "colab": {
          "base_uri": "https://localhost:8080/",
          "height": 206
        },
        "id": "czGJFaie4xbe",
        "outputId": "27efb88c-ec98-4eaf-80e4-1be15208bac8"
      },
      "outputs": [
        {
          "output_type": "execute_result",
          "data": {
            "text/plain": [
              "       Location  max(Rainfall)  WindGustSpeed\n",
              "0  CoffsHarbour          371.0          113.0\n",
              "1        Darwin          367.6          126.0\n",
              "2        Cairns          278.4           83.0\n",
              "3     Newcastle          240.0            NaN\n",
              "4    Townsville          236.8          135.0"
            ],
            "text/html": [
              "\n",
              "  <div id=\"df-c3f8cabe-a156-4101-a6e2-7207489fb120\">\n",
              "    <div class=\"colab-df-container\">\n",
              "      <div>\n",
              "<style scoped>\n",
              "    .dataframe tbody tr th:only-of-type {\n",
              "        vertical-align: middle;\n",
              "    }\n",
              "\n",
              "    .dataframe tbody tr th {\n",
              "        vertical-align: top;\n",
              "    }\n",
              "\n",
              "    .dataframe thead th {\n",
              "        text-align: right;\n",
              "    }\n",
              "</style>\n",
              "<table border=\"1\" class=\"dataframe\">\n",
              "  <thead>\n",
              "    <tr style=\"text-align: right;\">\n",
              "      <th></th>\n",
              "      <th>Location</th>\n",
              "      <th>max(Rainfall)</th>\n",
              "      <th>WindGustSpeed</th>\n",
              "    </tr>\n",
              "  </thead>\n",
              "  <tbody>\n",
              "    <tr>\n",
              "      <th>0</th>\n",
              "      <td>CoffsHarbour</td>\n",
              "      <td>371.0</td>\n",
              "      <td>113.0</td>\n",
              "    </tr>\n",
              "    <tr>\n",
              "      <th>1</th>\n",
              "      <td>Darwin</td>\n",
              "      <td>367.6</td>\n",
              "      <td>126.0</td>\n",
              "    </tr>\n",
              "    <tr>\n",
              "      <th>2</th>\n",
              "      <td>Cairns</td>\n",
              "      <td>278.4</td>\n",
              "      <td>83.0</td>\n",
              "    </tr>\n",
              "    <tr>\n",
              "      <th>3</th>\n",
              "      <td>Newcastle</td>\n",
              "      <td>240.0</td>\n",
              "      <td>NaN</td>\n",
              "    </tr>\n",
              "    <tr>\n",
              "      <th>4</th>\n",
              "      <td>Townsville</td>\n",
              "      <td>236.8</td>\n",
              "      <td>135.0</td>\n",
              "    </tr>\n",
              "  </tbody>\n",
              "</table>\n",
              "</div>\n",
              "      <button class=\"colab-df-convert\" onclick=\"convertToInteractive('df-c3f8cabe-a156-4101-a6e2-7207489fb120')\"\n",
              "              title=\"Convert this dataframe to an interactive table.\"\n",
              "              style=\"display:none;\">\n",
              "        \n",
              "  <svg xmlns=\"http://www.w3.org/2000/svg\" height=\"24px\"viewBox=\"0 0 24 24\"\n",
              "       width=\"24px\">\n",
              "    <path d=\"M0 0h24v24H0V0z\" fill=\"none\"/>\n",
              "    <path d=\"M18.56 5.44l.94 2.06.94-2.06 2.06-.94-2.06-.94-.94-2.06-.94 2.06-2.06.94zm-11 1L8.5 8.5l.94-2.06 2.06-.94-2.06-.94L8.5 2.5l-.94 2.06-2.06.94zm10 10l.94 2.06.94-2.06 2.06-.94-2.06-.94-.94-2.06-.94 2.06-2.06.94z\"/><path d=\"M17.41 7.96l-1.37-1.37c-.4-.4-.92-.59-1.43-.59-.52 0-1.04.2-1.43.59L10.3 9.45l-7.72 7.72c-.78.78-.78 2.05 0 2.83L4 21.41c.39.39.9.59 1.41.59.51 0 1.02-.2 1.41-.59l7.78-7.78 2.81-2.81c.8-.78.8-2.07 0-2.86zM5.41 20L4 18.59l7.72-7.72 1.47 1.35L5.41 20z\"/>\n",
              "  </svg>\n",
              "      </button>\n",
              "      \n",
              "  <style>\n",
              "    .colab-df-container {\n",
              "      display:flex;\n",
              "      flex-wrap:wrap;\n",
              "      gap: 12px;\n",
              "    }\n",
              "\n",
              "    .colab-df-convert {\n",
              "      background-color: #E8F0FE;\n",
              "      border: none;\n",
              "      border-radius: 50%;\n",
              "      cursor: pointer;\n",
              "      display: none;\n",
              "      fill: #1967D2;\n",
              "      height: 32px;\n",
              "      padding: 0 0 0 0;\n",
              "      width: 32px;\n",
              "    }\n",
              "\n",
              "    .colab-df-convert:hover {\n",
              "      background-color: #E2EBFA;\n",
              "      box-shadow: 0px 1px 2px rgba(60, 64, 67, 0.3), 0px 1px 3px 1px rgba(60, 64, 67, 0.15);\n",
              "      fill: #174EA6;\n",
              "    }\n",
              "\n",
              "    [theme=dark] .colab-df-convert {\n",
              "      background-color: #3B4455;\n",
              "      fill: #D2E3FC;\n",
              "    }\n",
              "\n",
              "    [theme=dark] .colab-df-convert:hover {\n",
              "      background-color: #434B5C;\n",
              "      box-shadow: 0px 1px 3px 1px rgba(0, 0, 0, 0.15);\n",
              "      filter: drop-shadow(0px 1px 2px rgba(0, 0, 0, 0.3));\n",
              "      fill: #FFFFFF;\n",
              "    }\n",
              "  </style>\n",
              "\n",
              "      <script>\n",
              "        const buttonEl =\n",
              "          document.querySelector('#df-c3f8cabe-a156-4101-a6e2-7207489fb120 button.colab-df-convert');\n",
              "        buttonEl.style.display =\n",
              "          google.colab.kernel.accessAllowed ? 'block' : 'none';\n",
              "\n",
              "        async function convertToInteractive(key) {\n",
              "          const element = document.querySelector('#df-c3f8cabe-a156-4101-a6e2-7207489fb120');\n",
              "          const dataTable =\n",
              "            await google.colab.kernel.invokeFunction('convertToInteractive',\n",
              "                                                     [key], {});\n",
              "          if (!dataTable) return;\n",
              "\n",
              "          const docLinkHtml = 'Like what you see? Visit the ' +\n",
              "            '<a target=\"_blank\" href=https://colab.research.google.com/notebooks/data_table.ipynb>data table notebook</a>'\n",
              "            + ' to learn more about interactive tables.';\n",
              "          element.innerHTML = '';\n",
              "          dataTable['output_type'] = 'display_data';\n",
              "          await google.colab.output.renderOutput(dataTable, element);\n",
              "          const docLink = document.createElement('div');\n",
              "          docLink.innerHTML = docLinkHtml;\n",
              "          element.appendChild(docLink);\n",
              "        }\n",
              "      </script>\n",
              "    </div>\n",
              "  </div>\n",
              "  "
            ]
          },
          "metadata": {},
          "execution_count": 16
        }
      ],
      "source": [
        "query2 = f'''select Location, max(Rainfall), max(WindGustSpeed) as WindGustSpeed\n",
        "from table\n",
        "group by(Location)\n",
        "order by max(Rainfall) DESC;'''\n",
        "sqlContext.sql(query2).toPandas().head(5)"
      ]
    },
    {
      "cell_type": "code",
      "execution_count": null,
      "metadata": {
        "colab": {
          "base_uri": "https://localhost:8080/",
          "height": 206
        },
        "id": "328Ch-5P5GV-",
        "outputId": "96494b23-ceb3-4a55-e86b-fadfe3ef2fbd"
      },
      "outputs": [
        {
          "output_type": "execute_result",
          "data": {
            "text/plain": [
              "        Location  min(Rainfall)  WindGustSpeed\n",
              "0  SydneyAirport            0.0           19.0\n",
              "1          Uluru            0.0           19.0\n",
              "2         Cairns            0.0           17.0\n",
              "3  NorfolkIsland            0.0           17.0\n",
              "4        Woomera            0.0           17.0"
            ],
            "text/html": [
              "\n",
              "  <div id=\"df-fc2980ae-9a0c-4fa7-b83c-a7910dfbb4c1\">\n",
              "    <div class=\"colab-df-container\">\n",
              "      <div>\n",
              "<style scoped>\n",
              "    .dataframe tbody tr th:only-of-type {\n",
              "        vertical-align: middle;\n",
              "    }\n",
              "\n",
              "    .dataframe tbody tr th {\n",
              "        vertical-align: top;\n",
              "    }\n",
              "\n",
              "    .dataframe thead th {\n",
              "        text-align: right;\n",
              "    }\n",
              "</style>\n",
              "<table border=\"1\" class=\"dataframe\">\n",
              "  <thead>\n",
              "    <tr style=\"text-align: right;\">\n",
              "      <th></th>\n",
              "      <th>Location</th>\n",
              "      <th>min(Rainfall)</th>\n",
              "      <th>WindGustSpeed</th>\n",
              "    </tr>\n",
              "  </thead>\n",
              "  <tbody>\n",
              "    <tr>\n",
              "      <th>0</th>\n",
              "      <td>SydneyAirport</td>\n",
              "      <td>0.0</td>\n",
              "      <td>19.0</td>\n",
              "    </tr>\n",
              "    <tr>\n",
              "      <th>1</th>\n",
              "      <td>Uluru</td>\n",
              "      <td>0.0</td>\n",
              "      <td>19.0</td>\n",
              "    </tr>\n",
              "    <tr>\n",
              "      <th>2</th>\n",
              "      <td>Cairns</td>\n",
              "      <td>0.0</td>\n",
              "      <td>17.0</td>\n",
              "    </tr>\n",
              "    <tr>\n",
              "      <th>3</th>\n",
              "      <td>NorfolkIsland</td>\n",
              "      <td>0.0</td>\n",
              "      <td>17.0</td>\n",
              "    </tr>\n",
              "    <tr>\n",
              "      <th>4</th>\n",
              "      <td>Woomera</td>\n",
              "      <td>0.0</td>\n",
              "      <td>17.0</td>\n",
              "    </tr>\n",
              "  </tbody>\n",
              "</table>\n",
              "</div>\n",
              "      <button class=\"colab-df-convert\" onclick=\"convertToInteractive('df-fc2980ae-9a0c-4fa7-b83c-a7910dfbb4c1')\"\n",
              "              title=\"Convert this dataframe to an interactive table.\"\n",
              "              style=\"display:none;\">\n",
              "        \n",
              "  <svg xmlns=\"http://www.w3.org/2000/svg\" height=\"24px\"viewBox=\"0 0 24 24\"\n",
              "       width=\"24px\">\n",
              "    <path d=\"M0 0h24v24H0V0z\" fill=\"none\"/>\n",
              "    <path d=\"M18.56 5.44l.94 2.06.94-2.06 2.06-.94-2.06-.94-.94-2.06-.94 2.06-2.06.94zm-11 1L8.5 8.5l.94-2.06 2.06-.94-2.06-.94L8.5 2.5l-.94 2.06-2.06.94zm10 10l.94 2.06.94-2.06 2.06-.94-2.06-.94-.94-2.06-.94 2.06-2.06.94z\"/><path d=\"M17.41 7.96l-1.37-1.37c-.4-.4-.92-.59-1.43-.59-.52 0-1.04.2-1.43.59L10.3 9.45l-7.72 7.72c-.78.78-.78 2.05 0 2.83L4 21.41c.39.39.9.59 1.41.59.51 0 1.02-.2 1.41-.59l7.78-7.78 2.81-2.81c.8-.78.8-2.07 0-2.86zM5.41 20L4 18.59l7.72-7.72 1.47 1.35L5.41 20z\"/>\n",
              "  </svg>\n",
              "      </button>\n",
              "      \n",
              "  <style>\n",
              "    .colab-df-container {\n",
              "      display:flex;\n",
              "      flex-wrap:wrap;\n",
              "      gap: 12px;\n",
              "    }\n",
              "\n",
              "    .colab-df-convert {\n",
              "      background-color: #E8F0FE;\n",
              "      border: none;\n",
              "      border-radius: 50%;\n",
              "      cursor: pointer;\n",
              "      display: none;\n",
              "      fill: #1967D2;\n",
              "      height: 32px;\n",
              "      padding: 0 0 0 0;\n",
              "      width: 32px;\n",
              "    }\n",
              "\n",
              "    .colab-df-convert:hover {\n",
              "      background-color: #E2EBFA;\n",
              "      box-shadow: 0px 1px 2px rgba(60, 64, 67, 0.3), 0px 1px 3px 1px rgba(60, 64, 67, 0.15);\n",
              "      fill: #174EA6;\n",
              "    }\n",
              "\n",
              "    [theme=dark] .colab-df-convert {\n",
              "      background-color: #3B4455;\n",
              "      fill: #D2E3FC;\n",
              "    }\n",
              "\n",
              "    [theme=dark] .colab-df-convert:hover {\n",
              "      background-color: #434B5C;\n",
              "      box-shadow: 0px 1px 3px 1px rgba(0, 0, 0, 0.15);\n",
              "      filter: drop-shadow(0px 1px 2px rgba(0, 0, 0, 0.3));\n",
              "      fill: #FFFFFF;\n",
              "    }\n",
              "  </style>\n",
              "\n",
              "      <script>\n",
              "        const buttonEl =\n",
              "          document.querySelector('#df-fc2980ae-9a0c-4fa7-b83c-a7910dfbb4c1 button.colab-df-convert');\n",
              "        buttonEl.style.display =\n",
              "          google.colab.kernel.accessAllowed ? 'block' : 'none';\n",
              "\n",
              "        async function convertToInteractive(key) {\n",
              "          const element = document.querySelector('#df-fc2980ae-9a0c-4fa7-b83c-a7910dfbb4c1');\n",
              "          const dataTable =\n",
              "            await google.colab.kernel.invokeFunction('convertToInteractive',\n",
              "                                                     [key], {});\n",
              "          if (!dataTable) return;\n",
              "\n",
              "          const docLinkHtml = 'Like what you see? Visit the ' +\n",
              "            '<a target=\"_blank\" href=https://colab.research.google.com/notebooks/data_table.ipynb>data table notebook</a>'\n",
              "            + ' to learn more about interactive tables.';\n",
              "          element.innerHTML = '';\n",
              "          dataTable['output_type'] = 'display_data';\n",
              "          await google.colab.output.renderOutput(dataTable, element);\n",
              "          const docLink = document.createElement('div');\n",
              "          docLink.innerHTML = docLinkHtml;\n",
              "          element.appendChild(docLink);\n",
              "        }\n",
              "      </script>\n",
              "    </div>\n",
              "  </div>\n",
              "  "
            ]
          },
          "metadata": {},
          "execution_count": 17
        }
      ],
      "source": [
        "query2 = f'''select Location, min(Rainfall), min(WindGustSpeed) as WindGustSpeed\n",
        "from table\n",
        "group by(Location)\n",
        "order by min(WindGustSpeed) DESC;'''\n",
        "sqlContext.sql(query2).toPandas().head(5)"
      ]
    },
    {
      "cell_type": "markdown",
      "metadata": {
        "id": "3FWALTtMYm2N"
      },
      "source": [
        "### Data Cleaning"
      ]
    },
    {
      "cell_type": "markdown",
      "metadata": {
        "id": "p2HvC5v9Yqdc"
      },
      "source": [
        "#### For Categorical columns show the frequency distribution using count function and describe the insights "
      ]
    },
    {
      "cell_type": "code",
      "source": [
        "df_1 = df1.withColumn(\"Date\", to_timestamp(\"Date\", 'yyyy-MM-dd'))\n",
        "\n",
        "categorical_columns = [c for c, t in df_1.dtypes if t.startswith('string')]\n",
        "numerical_columns = [c for c, t in df_1.dtypes if t.startswith('double')]\n",
        "#categorical_columns = ['Location', 'WindGustDir', 'WindDir9am', 'WindDir3pm', 'RainToday', 'RainTomorrow']\n",
        "df1[categorical_columns].describe().show()"
      ],
      "metadata": {
        "colab": {
          "base_uri": "https://localhost:8080/"
        },
        "id": "bvC5-wrHQ-86",
        "outputId": "c4d186a7-f705-427b-97ec-3338159efcab"
      },
      "execution_count": null,
      "outputs": [
        {
          "output_type": "stream",
          "name": "stdout",
          "text": [
            "+-------+--------+-----------+----------+----------+---------+------------+\n",
            "|summary|Location|WindGustDir|WindDir9am|WindDir3pm|RainToday|RainTomorrow|\n",
            "+-------+--------+-----------+----------+----------+---------+------------+\n",
            "|  count|  145460|     145460|    145460|    145460|   145460|      145460|\n",
            "|   mean|    null|       null|      null|      null|     null|        null|\n",
            "| stddev|    null|       null|      null|      null|     null|        null|\n",
            "|    min|Adelaide|          E|         E|         E|       NA|          NA|\n",
            "|    max| Woomera|        WSW|       WSW|       WSW|      Yes|         Yes|\n",
            "+-------+--------+-----------+----------+----------+---------+------------+\n",
            "\n"
          ]
        }
      ]
    },
    {
      "cell_type": "markdown",
      "metadata": {
        "id": "tJ_sNgpu53JD"
      },
      "source": [
        "#### Drop rows with null numerical columns \n",
        "\n",
        "#### Drop rows with Null categorical columns\n",
        "\n",
        "#### Drop rows with Null values in Target columns"
      ]
    },
    {
      "cell_type": "code",
      "execution_count": null,
      "metadata": {
        "id": "Sgsn4oUwG9Ks",
        "colab": {
          "base_uri": "https://localhost:8080/"
        },
        "outputId": "e6564439-b167-4a1c-ada8-8ed89d6bb1da"
      },
      "outputs": [
        {
          "output_type": "execute_result",
          "data": {
            "text/plain": [
              "Date             0\n",
              "Location         0\n",
              "MinTemp          0\n",
              "MaxTemp          0\n",
              "Rainfall         0\n",
              "Evaporation      0\n",
              "Sunshine         0\n",
              "WindGustDir      0\n",
              "WindGustSpeed    0\n",
              "WindDir9am       0\n",
              "WindDir3pm       0\n",
              "WindSpeed9am     0\n",
              "WindSpeed3pm     0\n",
              "Humidity9am      0\n",
              "Humidity3pm      0\n",
              "Pressure9am      0\n",
              "Pressure3pm      0\n",
              "Cloud9am         0\n",
              "Cloud3pm         0\n",
              "Temp9am          0\n",
              "Temp3pm          0\n",
              "RainToday        0\n",
              "RainTomorrow     0\n",
              "dtype: int64"
            ]
          },
          "metadata": {},
          "execution_count": 19
        }
      ],
      "source": [
        "df_c = df2[(df2['RainToday']!='NA') & (df2['RainTomorrow']!='NA') & (df2['WindDir3pm']!='NA') & (df2['WindDir9am']!='NA') \n",
        "& (df2['WindGustDir']!='NA') & (df2['Location']!='NA')]\n",
        "\n",
        "df = df_c.dropna()\n",
        "df.isna().sum()"
      ]
    },
    {
      "cell_type": "markdown",
      "metadata": {
        "id": "ipaPlRRA8M9R"
      },
      "source": [
        "#### Drop the variables which are not relevant in your analysis"
      ]
    },
    {
      "cell_type": "code",
      "execution_count": null,
      "metadata": {
        "id": "7yL-xV1N7-8N"
      },
      "outputs": [],
      "source": [
        "# removing these columns as most of them have null values which is not useful for analysis\n",
        "df = df.drop(['Date', 'Location', 'Evaporation', 'Sunshine', 'Cloud9am', 'Cloud3pm', 'Temp9am', 'Temp3pm'], axis=1)"
      ]
    },
    {
      "cell_type": "markdown",
      "metadata": {
        "id": "4yrXwws88aNc"
      },
      "source": [
        "#### Create pie chart for RainTomorrow and explain your chart"
      ]
    },
    {
      "cell_type": "code",
      "execution_count": null,
      "metadata": {
        "colab": {
          "base_uri": "https://localhost:8080/",
          "height": 266
        },
        "id": "xNR-VVFY8Wtd",
        "outputId": "d769bdf2-18be-42b0-e269-c14919a3f133"
      },
      "outputs": [
        {
          "output_type": "execute_result",
          "data": {
            "text/plain": [
              "<matplotlib.axes._subplots.AxesSubplot at 0x7f06889bfa10>"
            ]
          },
          "metadata": {},
          "execution_count": 21
        },
        {
          "output_type": "display_data",
          "data": {
            "text/plain": [
              "<Figure size 432x288 with 1 Axes>"
            ],
            "image/png": "[encoded data removed]"
          },
          "metadata": {}
        }
      ],
      "source": [
        "pandas_df = df\n",
        "pandas_df.groupby('RainTomorrow').size().plot(kind='pie', autopct='%.2f')"
      ]
    },
    {
      "cell_type": "markdown",
      "metadata": {
        "id": "mYR1VgSU_mwo"
      },
      "source": [
        "#### Barplot for WindDir9am"
      ]
    },
    {
      "cell_type": "code",
      "execution_count": null,
      "metadata": {
        "colab": {
          "base_uri": "https://localhost:8080/",
          "height": 243
        },
        "id": "qlYo3J3U_ntI",
        "outputId": "c2248905-455f-41d4-b3f7-372cd552c2b8"
      },
      "outputs": [
        {
          "output_type": "execute_result",
          "data": {
            "text/plain": [
              "<seaborn.axisgrid.FacetGrid at 0x7f068699d9d0>"
            ]
          },
          "metadata": {},
          "execution_count": 22
        },
        {
          "output_type": "display_data",
          "data": {
            "text/plain": [
              "<Figure size 648x216 with 1 Axes>"
            ],
            "image/png": "[encoded data removed]"
          },
          "metadata": {
            "needs_background": "light"
          }
        }
      ],
      "source": [
        "import seaborn as sns\n",
        "sns.displot(pandas_df['WindDir9am'], height=3, aspect=3)"
      ]
    },
    {
      "cell_type": "markdown",
      "metadata": {
        "id": "jZtF1XLAAlVi"
      },
      "source": [
        "#### Explain and visualize any top 5 variables using barplots /histogram or pie charts of your choice which are important in the analysis ?"
      ]
    },
    {
      "cell_type": "code",
      "source": [
        "#sns.barplot(pandas_df['Humidity9am'], pandas_df['Rainfall'], hue=pandas_df['RainTomorrow'])\n",
        "sns.histplot(data=pandas_df, x=\"Humidity9am\", hue=\"RainTomorrow\", element=\"step\")"
      ],
      "metadata": {
        "colab": {
          "base_uri": "https://localhost:8080/",
          "height": 297
        },
        "id": "kLYDxeUkYhZ0",
        "outputId": "d43ee302-69a1-4491-c39f-7a5250175528"
      },
      "execution_count": null,
      "outputs": [
        {
          "output_type": "execute_result",
          "data": {
            "text/plain": [
              "<matplotlib.axes._subplots.AxesSubplot at 0x7f0682a59250>"
            ]
          },
          "metadata": {},
          "execution_count": 23
        },
        {
          "output_type": "display_data",
          "data": {
            "text/plain": [
              "<Figure size 432x288 with 1 Axes>"
            ],
            "image/png": "[encoded data removed]"
          },
          "metadata": {
            "needs_background": "light"
          }
        }
      ]
    },
    {
      "cell_type": "markdown",
      "source": [
        "As we can see from the graph chances of RainFall accuring tomorrow or not mostly likely to happen when humidity 9am is between 60 to 100"
      ],
      "metadata": {
        "id": "eSaFQxvlfwE6"
      }
    },
    {
      "cell_type": "code",
      "source": [
        "sns.histplot(data=pandas_df, x=\"WindGustSpeed\", hue=\"RainTomorrow\")"
      ],
      "metadata": {
        "colab": {
          "base_uri": "https://localhost:8080/",
          "height": 297
        },
        "id": "Fufiv4TMbXwb",
        "outputId": "31a0cc6f-3582-49cf-88e0-1452d8b6d009"
      },
      "execution_count": null,
      "outputs": [
        {
          "output_type": "execute_result",
          "data": {
            "text/plain": [
              "<matplotlib.axes._subplots.AxesSubplot at 0x7f0685ba9ed0>"
            ]
          },
          "metadata": {},
          "execution_count": 24
        },
        {
          "output_type": "display_data",
          "data": {
            "text/plain": [
              "<Figure size 432x288 with 1 Axes>"
            ],
            "image/png": "[encoded data removed]"
          },
          "metadata": {
            "needs_background": "light"
          }
        }
      ]
    },
    {
      "cell_type": "markdown",
      "source": [
        "The above graph shows that the value range of windgust speed between 30 and 80 is one of the main feature for the cause of rainfall tomorrow or not."
      ],
      "metadata": {
        "id": "KXFGy8oNgDr0"
      }
    },
    {
      "cell_type": "code",
      "source": [
        "sns.histplot(data=pandas_df, x=\"Pressure9am\", hue=\"RainTomorrow\")"
      ],
      "metadata": {
        "colab": {
          "base_uri": "https://localhost:8080/",
          "height": 297
        },
        "id": "cm_9CpmEbpyW",
        "outputId": "5687c98d-4b56-420c-86d6-75dd96ae8bb9"
      },
      "execution_count": null,
      "outputs": [
        {
          "output_type": "execute_result",
          "data": {
            "text/plain": [
              "<matplotlib.axes._subplots.AxesSubplot at 0x7f0684c02c10>"
            ]
          },
          "metadata": {},
          "execution_count": 25
        },
        {
          "output_type": "display_data",
          "data": {
            "text/plain": [
              "<Figure size 432x288 with 1 Axes>"
            ],
            "image/png": "[encoded data removed]"
          },
          "metadata": {
            "needs_background": "light"
          }
        }
      ]
    },
    {
      "cell_type": "markdown",
      "source": [
        "Graph shows that pressure between 1000 to 1030 can cause rain fall tomorrow"
      ],
      "metadata": {
        "id": "qrWB9Bu4gUo4"
      }
    },
    {
      "cell_type": "code",
      "source": [
        "sns.histplot(data=pandas_df, x=\"Humidity3pm\", hue=\"RainTomorrow\", element=\"poly\")"
      ],
      "metadata": {
        "colab": {
          "base_uri": "https://localhost:8080/",
          "height": 297
        },
        "id": "UwiT3vz-burW",
        "outputId": "7d0bc2b0-5715-429e-bd00-e818bde9c33d"
      },
      "execution_count": null,
      "outputs": [
        {
          "output_type": "execute_result",
          "data": {
            "text/plain": [
              "<matplotlib.axes._subplots.AxesSubplot at 0x7f06875fe750>"
            ]
          },
          "metadata": {},
          "execution_count": 26
        },
        {
          "output_type": "display_data",
          "data": {
            "text/plain": [
              "<Figure size 432x288 with 1 Axes>"
            ],
            "image/png": "[encoded data removed]"
          },
          "metadata": {
            "needs_background": "light"
          }
        }
      ]
    },
    {
      "cell_type": "markdown",
      "source": [
        "Humidity between 60 to 100 clearly shows that high chances of rain ocurring tomorrow"
      ],
      "metadata": {
        "id": "vnQkLPA-gvP8"
      }
    },
    {
      "cell_type": "code",
      "source": [
        "sns.histplot(data=pandas_df, x=\"MaxTemp\", hue=\"RainTomorrow\", element=\"poly\")"
      ],
      "metadata": {
        "colab": {
          "base_uri": "https://localhost:8080/",
          "height": 297
        },
        "id": "r2NNPuLvcUtb",
        "outputId": "b9d4a8c9-bfa8-4bb7-a624-0a81d5500a91"
      },
      "execution_count": null,
      "outputs": [
        {
          "output_type": "execute_result",
          "data": {
            "text/plain": [
              "<matplotlib.axes._subplots.AxesSubplot at 0x7f067da71090>"
            ]
          },
          "metadata": {},
          "execution_count": 27
        },
        {
          "output_type": "display_data",
          "data": {
            "text/plain": [
              "<Figure size 432x288 with 1 Axes>"
            ],
            "image/png": "[encoded data removed]"
          },
          "metadata": {
            "needs_background": "light"
          }
        }
      ]
    },
    {
      "cell_type": "markdown",
      "source": [
        "Temperature between 10 to 30 shows chances of rain tomorrow"
      ],
      "metadata": {
        "id": "PLoAqVBEg_DY"
      }
    },
    {
      "cell_type": "code",
      "source": [
        "sns.histplot(data=pandas_df, x=\"MinTemp\", hue=\"RainTomorrow\", element=\"poly\")"
      ],
      "metadata": {
        "colab": {
          "base_uri": "https://localhost:8080/",
          "height": 297
        },
        "id": "3Isr08oPcdsA",
        "outputId": "1afef354-4ac5-405e-e2ca-e41c1b4549e1"
      },
      "execution_count": null,
      "outputs": [
        {
          "output_type": "execute_result",
          "data": {
            "text/plain": [
              "<matplotlib.axes._subplots.AxesSubplot at 0x7f0682a6dd50>"
            ]
          },
          "metadata": {},
          "execution_count": 28
        },
        {
          "output_type": "display_data",
          "data": {
            "text/plain": [
              "<Figure size 432x288 with 1 Axes>"
            ],
            "image/png": "[encoded data removed]"
          },
          "metadata": {
            "needs_background": "light"
          }
        }
      ]
    },
    {
      "cell_type": "markdown",
      "source": [
        "Temperature between 10 to 30 shows chances of rain tomorrow"
      ],
      "metadata": {
        "id": "GPRkahYGhJ6K"
      }
    },
    {
      "cell_type": "markdown",
      "source": [
        "### Model Building"
      ],
      "metadata": {
        "id": "Jnmiuj4HSFkC"
      }
    },
    {
      "cell_type": "markdown",
      "source": [
        "#### Split the data in Train and Test sets"
      ],
      "metadata": {
        "id": "oVQuyJSTSIU0"
      }
    },
    {
      "cell_type": "code",
      "source": [
        "sparkDF=spark.createDataFrame(pandas_df)\n",
        "#sparkDF = sparkDF.drop('Date', 'Location', 'Evaporation', 'Sunshine', 'Cloud9am', 'Cloud3pm', 'Temp9am', 'Temp3pm')\n",
        "categorical_columns = [c for c, t in sparkDF.dtypes if t.startswith('string')]\n",
        "numerical_columns = [c for c, t in sparkDF.dtypes if t.startswith('double')]"
      ],
      "metadata": {
        "id": "XV21bQ6wB-cx"
      },
      "execution_count": null,
      "outputs": []
    },
    {
      "cell_type": "code",
      "source": [
        "trainDF, testDF = sparkDF.randomSplit([0.8, 0.2], seed=42)\n",
        "features = pandas_df.columns[0:-1]\n",
        "label = pandas_df.columns[-1]"
      ],
      "metadata": {
        "id": "xT_jcdAA3yb5"
      },
      "execution_count": null,
      "outputs": []
    },
    {
      "cell_type": "markdown",
      "source": [
        "#### One hot encoding of the Categorical columns "
      ],
      "metadata": {
        "id": "1fNAQ9uiH7lE"
      }
    },
    {
      "cell_type": "code",
      "source": [
        "categoricalCols = categorical_columns\n",
        " \n",
        "# The following two lines are estimators. They return functions that we will later apply to transform the dataset.\n",
        "stringIndexer = StringIndexer(inputCols=categoricalCols, outputCols=[x + \"Index\" for x in categoricalCols]) \n",
        "encoder = OneHotEncoder(inputCols=stringIndexer.getOutputCols(), outputCols=[x + \"OHE\" for x in categoricalCols]) \n",
        " \n",
        "# The label column (\"RainTomorrow\") is also a string value - it has two possible values, No and Yes. \n",
        "# Convert it to a numeric value using StringIndexer.\n",
        "labelToIndex = StringIndexer(inputCol=\"RainTomorrow\", outputCol=\"label\")"
      ],
      "metadata": {
        "id": "60Ka2ug9_9g7"
      },
      "execution_count": null,
      "outputs": []
    },
    {
      "cell_type": "markdown",
      "source": [
        "#### Assemble input columns in to a single vector"
      ],
      "metadata": {
        "id": "WqAkw-7dH_vP"
      }
    },
    {
      "cell_type": "code",
      "source": [
        "# This includes both the numeric columns and the one-hot encoded binary vector columns in our dataset.\n",
        "numericCols = numerical_columns\n",
        "assemblerInputs = [c + \"OHE\" for c in categoricalCols if c!=label] + numericCols\n",
        "vecAssembler = VectorAssembler(inputCols=assemblerInputs, outputCol=\"feature_vec\")"
      ],
      "metadata": {
        "id": "1DHHpaU_Ap7X"
      },
      "execution_count": null,
      "outputs": []
    },
    {
      "cell_type": "markdown",
      "source": [
        "#### Are you going to build a regression or a classification model explain ?\n",
        "\n",
        "I will use classification model as the prediction is to detect whether it will rain tomorrow or not. Which is a yes/no classification(binary) prediction problem."
      ],
      "metadata": {
        "id": "8BdmdaMUIM7d"
      }
    },
    {
      "cell_type": "code",
      "source": [
        "lr = LogisticRegression(featuresCol=\"feature_vec\", labelCol=\"label\", regParam=1.0)\n",
        "dt = DecisionTreeClassifier(featuresCol=\"feature_vec\", labelCol=\"label\")\n",
        "rf = RandomForestClassifier(featuresCol=\"feature_vec\", labelCol=\"label\",  maxDepth = 5,\n",
        "    maxBins = 32, numTrees = 500)"
      ],
      "metadata": {
        "id": "V9Z2FqS5Atyx"
      },
      "execution_count": null,
      "outputs": []
    },
    {
      "cell_type": "code",
      "source": [
        "# Define the pipeline based on the stages created in previous steps.\n",
        "pipeline_log = Pipeline(stages=[stringIndexer, encoder, labelToIndex, vecAssembler, lr])\n",
        "pipeline_dt = Pipeline(stages=[stringIndexer, encoder, labelToIndex, vecAssembler, dt])\n",
        "pipeline_rf = Pipeline(stages=[stringIndexer, encoder, labelToIndex, vecAssembler, rf])\n",
        " \n",
        "# Define the pipeline model.\n",
        "pipelineModel_log = pipeline_log.fit(trainDF)\n",
        "pipelineModel_dt = pipeline_dt.fit(trainDF)\n",
        "pipelineModel_rf = pipeline_rf.fit(trainDF)\n",
        " \n",
        "# Apply the pipeline model to the test dataset.\n",
        "predDF_log = pipelineModel_log.transform(testDF)\n",
        "predDF_dt = pipelineModel_dt.transform(testDF)\n",
        "predDF_rf = pipelineModel_rf.transform(testDF)"
      ],
      "metadata": {
        "id": "tbSw3VF5At13"
      },
      "execution_count": null,
      "outputs": []
    },
    {
      "cell_type": "code",
      "source": [
        "predDF_log.select(\"feature_vec\", \"label\", \"prediction\", \"probability\").show(2)"
      ],
      "metadata": {
        "colab": {
          "base_uri": "https://localhost:8080/"
        },
        "id": "i3VUpDs7F1qi",
        "outputId": "5556ad18-08d2-4ca6-b32f-2f6438b024e6"
      },
      "execution_count": null,
      "outputs": [
        {
          "output_type": "stream",
          "name": "stdout",
          "text": [
            "+--------------------+-----+----------+--------------------+\n",
            "|         feature_vec|label|prediction|         probability|\n",
            "+--------------------+-----+----------+--------------------+\n",
            "|(56,[12,23,32,45,...|  0.0|       0.0|[0.81946583333706...|\n",
            "|(56,[4,17,32,45,4...|  0.0|       0.0|[0.87003940520460...|\n",
            "+--------------------+-----+----------+--------------------+\n",
            "only showing top 2 rows\n",
            "\n"
          ]
        }
      ]
    },
    {
      "cell_type": "code",
      "source": [
        "from pyspark.ml.evaluation import MulticlassClassificationEvaluator\n",
        "\n",
        "Evaluator = MulticlassClassificationEvaluator(labelCol =  'label', predictionCol = 'prediction', metricName = \"accuracy\")\n",
        "LogReg_Accuracy = Evaluator.evaluate(predDF_log)\n",
        "dt_Accuracy = Evaluator.evaluate(predDF_dt)\n",
        "rf_Accuracy = Evaluator.evaluate(predDF_rf)\n",
        "\n",
        "print('Logistic Regression Accuracy is : ' + str(LogReg_Accuracy * 100))\n",
        "print('Test Error is : ' + str(1 - LogReg_Accuracy))\n",
        "\n",
        "print('Decision Tree Accuracy is : ' + str(dt_Accuracy * 100))\n",
        "print('Test Error is : ' + str(1 - dt_Accuracy))\n",
        "\n",
        "print('Random Forest Accuracy is : ' + str(rf_Accuracy * 100))\n",
        "print('Test Error is : ' + str(1 - rf_Accuracy))"
      ],
      "metadata": {
        "colab": {
          "base_uri": "https://localhost:8080/"
        },
        "id": "QFWVfg_mF3bk",
        "outputId": "b72b31a9-6a26-4473-f823-4084e0e6a626"
      },
      "execution_count": null,
      "outputs": [
        {
          "output_type": "stream",
          "name": "stdout",
          "text": [
            "Logistic Regression Accuracy is : 78.10192688636774\n",
            "Test Error is : 0.21898073113632266\n",
            "Decision Tree Accuracy is : 84.32378894291374\n",
            "Test Error is : 0.15676211057086264\n",
            "Random Forest Accuracy is : 82.82009724473258\n",
            "Test Error is : 0.17179902755267418\n"
          ]
        }
      ]
    },
    {
      "cell_type": "markdown",
      "source": [
        "#### CrossValidation on Logistic Regression"
      ],
      "metadata": {
        "id": "rBLoBjdE28f5"
      }
    },
    {
      "cell_type": "code",
      "source": [
        "from pyspark.ml.tuning import ParamGridBuilder, CrossValidator\n",
        " \n",
        "# Create ParamGrid for Cross Validation\n",
        "paramGrid_lr = (ParamGridBuilder()\n",
        "             .addGrid(lr.regParam, [0.01, 0.5, 2.0])\n",
        "             .addGrid(lr.elasticNetParam, [0.0, 0.5, 1.0])\n",
        "             .addGrid(lr.maxIter, [1, 5, 10])\n",
        "             .build())\n",
        "\n",
        "# Build out the cross validation\n",
        "crossval_lr = CrossValidator(estimator = lr,\n",
        "                          estimatorParamMaps = paramGrid_lr,\n",
        "                          evaluator = Evaluator,\n",
        "                          numFolds = 3)  \n",
        " \n",
        "# pipelineCV = Pipeline(stages=[indexer, va, crossval])\n",
        "pipeline_lr_cv = Pipeline(stages=[stringIndexer, encoder, labelToIndex, vecAssembler, crossval_lr])\n",
        " \n",
        "# # Train the model using the pipeline, parameter grid, and preceding BinaryClassificationEvaluator\n",
        "pipelineModel_lr_cv = pipeline_lr_cv.fit(trainDF)"
      ],
      "metadata": {
        "id": "IsaVzee93A4z"
      },
      "execution_count": null,
      "outputs": []
    },
    {
      "cell_type": "code",
      "source": [
        "pipelineModel_lr_cv.stages[-1].bestModel"
      ],
      "metadata": {
        "colab": {
          "base_uri": "https://localhost:8080/"
        },
        "id": "VLhAniCLPROO",
        "outputId": "5f38391d-cbd0-4efc-95c5-02aad9e2cff7"
      },
      "execution_count": null,
      "outputs": [
        {
          "output_type": "execute_result",
          "data": {
            "text/plain": [
              "LogisticRegressionModel: uid=LogisticRegression_84a160c83c4a, numClasses=2, numFeatures=56"
            ]
          },
          "metadata": {},
          "execution_count": 38
        }
      ]
    },
    {
      "cell_type": "markdown",
      "source": [
        "#### CrossValidation Decision Tree"
      ],
      "metadata": {
        "id": "9wf3j8fn4gZ1"
      }
    },
    {
      "cell_type": "code",
      "source": [
        "# Build the grid of different parameters\n",
        "paramGrid_dt = ParamGridBuilder() \\\n",
        "    .addGrid(dt.maxDepth, [5, 10, 15]) \\\n",
        "    .addGrid(dt.maxBins, [10, 20, 30]) \\\n",
        "    .build()\n",
        " \n",
        "# Build out the cross validation\n",
        "crossval_dt = CrossValidator(estimator = dt,\n",
        "                          estimatorParamMaps = paramGrid_dt,\n",
        "                          evaluator = Evaluator,\n",
        "                          numFolds = 3)  \n",
        " \n",
        "# pipelineCV = Pipeline(stages=[indexer, va, crossval])\n",
        "pipeline_dt_cv = Pipeline(stages=[stringIndexer, encoder, labelToIndex, vecAssembler, crossval_dt])\n",
        " \n",
        "# # Train the model using the pipeline, parameter grid, and preceding BinaryClassificationEvaluator\n",
        "pipelineModel_dt_cv = pipeline_dt_cv.fit(trainDF)"
      ],
      "metadata": {
        "id": "5iAwf1u_4n9a"
      },
      "execution_count": null,
      "outputs": []
    },
    {
      "cell_type": "code",
      "source": [
        "pipelineModel_dt_cv.stages[-1].bestModel"
      ],
      "metadata": {
        "colab": {
          "base_uri": "https://localhost:8080/"
        },
        "id": "WqWx-lfCPJ4K",
        "outputId": "c46b3b40-c580-4d3c-e55d-a96afe11825c"
      },
      "execution_count": null,
      "outputs": [
        {
          "output_type": "execute_result",
          "data": {
            "text/plain": [
              "DecisionTreeClassificationModel: uid=DecisionTreeClassifier_711963f9e4c3, depth=5, numNodes=27, numClasses=2, numFeatures=56"
            ]
          },
          "metadata": {},
          "execution_count": 40
        }
      ]
    },
    {
      "cell_type": "markdown",
      "source": [
        "#### CrossValidation RandomForest - work on parameters here"
      ],
      "metadata": {
        "id": "D_yyUCR-4s0o"
      }
    },
    {
      "cell_type": "code",
      "source": [
        "# Create ParamGrid for Cross Validation\n",
        "paramGrid_rf = (ParamGridBuilder()\n",
        "               .addGrid(rf.maxDepth, [2, 5, 10])\n",
        "               .addGrid(rf.maxBins, [5, 10, 20])\n",
        "               .addGrid(rf.numTrees, [5, 20, 50])\n",
        "               .build())\n",
        " \n",
        "# Create 5-fold CrossValidator\n",
        "crossval_rf = CrossValidator(estimator = rf,\n",
        "                      estimatorParamMaps = paramGrid_rf,\n",
        "                      evaluator = Evaluator,\n",
        "                      numFolds = 3)\n",
        " \n",
        "# pipelineCV = Pipeline(stages=[indexer, va, crossval])\n",
        "pipeline_rf_cv = Pipeline(stages=[stringIndexer, encoder, labelToIndex, vecAssembler, crossval_rf])\n",
        " \n",
        "# # Train the model using the pipeline, parameter grid, and preceding BinaryClassificationEvaluator\n",
        "pipelineModel_rf_cv = pipeline_rf_cv.fit(trainDF)"
      ],
      "metadata": {
        "id": "zFoOTqNt4wnr"
      },
      "execution_count": null,
      "outputs": []
    },
    {
      "cell_type": "code",
      "source": [
        "pipelineModel_rf_cv.stages[-1].bestModel"
      ],
      "metadata": {
        "colab": {
          "base_uri": "https://localhost:8080/"
        },
        "id": "htE7RSfWPXCo",
        "outputId": "7ee84e46-f23e-4745-c275-b138eab00ca3"
      },
      "execution_count": null,
      "outputs": [
        {
          "output_type": "execute_result",
          "data": {
            "text/plain": [
              "RandomForestClassificationModel: uid=RandomForestClassifier_1c994bd4c5c9, numTrees=50, numClasses=2, numFeatures=56"
            ]
          },
          "metadata": {},
          "execution_count": 42
        }
      ]
    },
    {
      "cell_type": "markdown",
      "source": [
        "#### Evaluate with confusion_matrix"
      ],
      "metadata": {
        "id": "AvndpKlF41Ha"
      }
    },
    {
      "cell_type": "code",
      "source": [
        "def confusion_matrix(preds):\n",
        "\n",
        "  Prediction_Labels = preds.select(['prediction', 'label'])\n",
        "\n",
        "  Matrix = MulticlassMetrics(Prediction_Labels.rdd.map(list))\n",
        "\n",
        "  confusion_matrix = Matrix.confusionMatrix().toArray()\n",
        "\n",
        "  print('Confusion Matrix')\n",
        "\n",
        "  print(confusion_matrix)\n",
        "\n",
        "  precision = (confusion_matrix[0][0]) / (confusion_matrix[0][0] + confusion_matrix[1][0])\n",
        "  print('Precision = ' + str(precision))\n",
        "\n",
        "  recall = (confusion_matrix[0][0]) / (confusion_matrix[0][0] + confusion_matrix[0][1])\n",
        "  print('Recall = ' + str(recall))\n",
        "\n",
        "  f1Score = (precision * recall) / (precision + recall) * 2\n",
        "  print('F1 Score = ' + str(f1Score))"
      ],
      "metadata": {
        "id": "tD4ubw-m4_QG"
      },
      "execution_count": null,
      "outputs": []
    },
    {
      "cell_type": "markdown",
      "source": [
        "#### Evaluate Logistic Regression"
      ],
      "metadata": {
        "id": "Fm5BxKEd5DoA"
      }
    },
    {
      "cell_type": "code",
      "source": [
        "predDF_lr_cv = pipelineModel_lr_cv.transform(testDF)\n",
        "confusion_matrix(predDF_lr_cv)"
      ],
      "metadata": {
        "colab": {
          "base_uri": "https://localhost:8080/"
        },
        "id": "hcBvIbK03Tqb",
        "outputId": "5ff99e1e-d60e-4533-d371-10594f41dd28"
      },
      "execution_count": null,
      "outputs": [
        {
          "output_type": "stream",
          "name": "stdout",
          "text": [
            "Confusion Matrix\n",
            "[[8152.  501.]\n",
            " [1483.  970.]]\n",
            "Precision = 0.846081992734821\n",
            "Recall = 0.9421010054316422\n",
            "F1 Score = 0.8915135608048994\n"
          ]
        }
      ]
    },
    {
      "cell_type": "markdown",
      "source": [
        "#### Evaluate Decision tree"
      ],
      "metadata": {
        "id": "n3D7W0FTi1Oq"
      }
    },
    {
      "cell_type": "code",
      "source": [
        "predDF_dt_cv = pipelineModel_dt_cv.transform(testDF)\n",
        "confusion_matrix(predDF_dt_cv)"
      ],
      "metadata": {
        "colab": {
          "base_uri": "https://localhost:8080/"
        },
        "id": "VfzrKWUbsrO5",
        "outputId": "9d72bffb-3e71-4b5e-f7df-ce8cbe25c4de"
      },
      "execution_count": null,
      "outputs": [
        {
          "output_type": "stream",
          "name": "stdout",
          "text": [
            "Confusion Matrix\n",
            "[[8312.  341.]\n",
            " [1391. 1062.]]\n",
            "Precision = 0.8566422755848706\n",
            "Recall = 0.9605917022997804\n",
            "F1 Score = 0.9056439311396819\n"
          ]
        }
      ]
    },
    {
      "cell_type": "markdown",
      "source": [
        "#### Evaluate Random Forest"
      ],
      "metadata": {
        "id": "5-qfzXNT5XGG"
      }
    },
    {
      "cell_type": "code",
      "source": [
        "predDF_rf_cv = pipelineModel_rf_cv.transform(testDF)\n",
        "confusion_matrix(predDF_rf_cv)"
      ],
      "metadata": {
        "colab": {
          "base_uri": "https://localhost:8080/"
        },
        "id": "F-1Ana495aTQ",
        "outputId": "4b796ae4-d230-428e-8fed-4c728daf23d9"
      },
      "execution_count": null,
      "outputs": [
        {
          "output_type": "stream",
          "name": "stdout",
          "text": [
            "Confusion Matrix\n",
            "[[8342.  311.]\n",
            " [1337. 1116.]]\n",
            "Precision = 0.8618658952371113\n",
            "Recall = 0.9640587079625563\n",
            "F1 Score = 0.9101025529129392\n"
          ]
        }
      ]
    },
    {
      "cell_type": "markdown",
      "source": [
        "So Far the best accuarcy is shown by both Random Forest and decision tree with F1 score of 90%. In this case I would prefer to use decision tree as its faster and more interpretable."
      ],
      "metadata": {
        "id": "nI4JqZPHTzrp"
      }
    },
    {
      "cell_type": "markdown",
      "source": [
        "#### Feature Importance"
      ],
      "metadata": {
        "id": "QW1GB1dnQkFA"
      }
    },
    {
      "cell_type": "code",
      "source": [
        "tree = pipelineModel_rf.stages[-1]\n",
        "vec = pipelineModel_rf.stages[-2]\n",
        "\n",
        "df_imp = pd.DataFrame(list(zip(vec.getInputCols(), tree.featureImportances)), columns=['Columns', 'Importance'])\n",
        "df_imp.sort_values(['Importance'], ascending=False)"
      ],
      "metadata": {
        "colab": {
          "base_uri": "https://localhost:8080/"
        },
        "id": "bESDYxxxRHJz",
        "outputId": "8af17aec-fb87-4eb2-f965-308fa9b24950"
      },
      "execution_count": null,
      "outputs": [
        {
          "output_type": "execute_result",
          "data": {
            "text/plain": [
              "           Columns  Importance\n",
              "12     Pressure9am    0.000582\n",
              "1    WindDir9amOHE    0.000504\n",
              "0   WindGustDirOHE    0.000435\n",
              "13     Pressure3pm    0.000382\n",
              "3     RainTodayOHE    0.000349\n",
              "2    WindDir3pmOHE    0.000197\n",
              "4          MinTemp    0.000159\n",
              "11     Humidity3pm    0.000149\n",
              "8     WindSpeed9am    0.000131\n",
              "9     WindSpeed3pm    0.000129\n",
              "6         Rainfall    0.000114\n",
              "5          MaxTemp    0.000102\n",
              "10     Humidity9am    0.000087\n",
              "7    WindGustSpeed    0.000077"
            ],
            "text/html": [
              "\n",
              "  <div id=\"df-0ebb26a0-9f8c-4255-9935-0898727fc3b9\">\n",
              "    <div class=\"colab-df-container\">\n",
              "      <div>\n",
              "<style scoped>\n",
              "    .dataframe tbody tr th:only-of-type {\n",
              "        vertical-align: middle;\n",
              "    }\n",
              "\n",
              "    .dataframe tbody tr th {\n",
              "        vertical-align: top;\n",
              "    }\n",
              "\n",
              "    .dataframe thead th {\n",
              "        text-align: right;\n",
              "    }\n",
              "</style>\n",
              "<table border=\"1\" class=\"dataframe\">\n",
              "  <thead>\n",
              "    <tr style=\"text-align: right;\">\n",
              "      <th></th>\n",
              "      <th>Columns</th>\n",
              "      <th>Importance</th>\n",
              "    </tr>\n",
              "  </thead>\n",
              "  <tbody>\n",
              "    <tr>\n",
              "      <th>12</th>\n",
              "      <td>Pressure9am</td>\n",
              "      <td>0.000582</td>\n",
              "    </tr>\n",
              "    <tr>\n",
              "      <th>1</th>\n",
              "      <td>WindDir9amOHE</td>\n",
              "      <td>0.000504</td>\n",
              "    </tr>\n",
              "    <tr>\n",
              "      <th>0</th>\n",
              "      <td>WindGustDirOHE</td>\n",
              "      <td>0.000435</td>\n",
              "    </tr>\n",
              "    <tr>\n",
              "      <th>13</th>\n",
              "      <td>Pressure3pm</td>\n",
              "      <td>0.000382</td>\n",
              "    </tr>\n",
              "    <tr>\n",
              "      <th>3</th>\n",
              "      <td>RainTodayOHE</td>\n",
              "      <td>0.000349</td>\n",
              "    </tr>\n",
              "    <tr>\n",
              "      <th>2</th>\n",
              "      <td>WindDir3pmOHE</td>\n",
              "      <td>0.000197</td>\n",
              "    </tr>\n",
              "    <tr>\n",
              "      <th>4</th>\n",
              "      <td>MinTemp</td>\n",
              "      <td>0.000159</td>\n",
              "    </tr>\n",
              "    <tr>\n",
              "      <th>11</th>\n",
              "      <td>Humidity3pm</td>\n",
              "      <td>0.000149</td>\n",
              "    </tr>\n",
              "    <tr>\n",
              "      <th>8</th>\n",
              "      <td>WindSpeed9am</td>\n",
              "      <td>0.000131</td>\n",
              "    </tr>\n",
              "    <tr>\n",
              "      <th>9</th>\n",
              "      <td>WindSpeed3pm</td>\n",
              "      <td>0.000129</td>\n",
              "    </tr>\n",
              "    <tr>\n",
              "      <th>6</th>\n",
              "      <td>Rainfall</td>\n",
              "      <td>0.000114</td>\n",
              "    </tr>\n",
              "    <tr>\n",
              "      <th>5</th>\n",
              "      <td>MaxTemp</td>\n",
              "      <td>0.000102</td>\n",
              "    </tr>\n",
              "    <tr>\n",
              "      <th>10</th>\n",
              "      <td>Humidity9am</td>\n",
              "      <td>0.000087</td>\n",
              "    </tr>\n",
              "    <tr>\n",
              "      <th>7</th>\n",
              "      <td>WindGustSpeed</td>\n",
              "      <td>0.000077</td>\n",
              "    </tr>\n",
              "  </tbody>\n",
              "</table>\n",
              "</div>\n",
              "      <button class=\"colab-df-convert\" onclick=\"convertToInteractive('df-0ebb26a0-9f8c-4255-9935-0898727fc3b9')\"\n",
              "              title=\"Convert this dataframe to an interactive table.\"\n",
              "              style=\"display:none;\">\n",
              "        \n",
              "  <svg xmlns=\"http://www.w3.org/2000/svg\" height=\"24px\"viewBox=\"0 0 24 24\"\n",
              "       width=\"24px\">\n",
              "    <path d=\"M0 0h24v24H0V0z\" fill=\"none\"/>\n",
              "    <path d=\"M18.56 5.44l.94 2.06.94-2.06 2.06-.94-2.06-.94-.94-2.06-.94 2.06-2.06.94zm-11 1L8.5 8.5l.94-2.06 2.06-.94-2.06-.94L8.5 2.5l-.94 2.06-2.06.94zm10 10l.94 2.06.94-2.06 2.06-.94-2.06-.94-.94-2.06-.94 2.06-2.06.94z\"/><path d=\"M17.41 7.96l-1.37-1.37c-.4-.4-.92-.59-1.43-.59-.52 0-1.04.2-1.43.59L10.3 9.45l-7.72 7.72c-.78.78-.78 2.05 0 2.83L4 21.41c.39.39.9.59 1.41.59.51 0 1.02-.2 1.41-.59l7.78-7.78 2.81-2.81c.8-.78.8-2.07 0-2.86zM5.41 20L4 18.59l7.72-7.72 1.47 1.35L5.41 20z\"/>\n",
              "  </svg>\n",
              "      </button>\n",
              "      \n",
              "  <style>\n",
              "    .colab-df-container {\n",
              "      display:flex;\n",
              "      flex-wrap:wrap;\n",
              "      gap: 12px;\n",
              "    }\n",
              "\n",
              "    .colab-df-convert {\n",
              "      background-color: #E8F0FE;\n",
              "      border: none;\n",
              "      border-radius: 50%;\n",
              "      cursor: pointer;\n",
              "      display: none;\n",
              "      fill: #1967D2;\n",
              "      height: 32px;\n",
              "      padding: 0 0 0 0;\n",
              "      width: 32px;\n",
              "    }\n",
              "\n",
              "    .colab-df-convert:hover {\n",
              "      background-color: #E2EBFA;\n",
              "      box-shadow: 0px 1px 2px rgba(60, 64, 67, 0.3), 0px 1px 3px 1px rgba(60, 64, 67, 0.15);\n",
              "      fill: #174EA6;\n",
              "    }\n",
              "\n",
              "    [theme=dark] .colab-df-convert {\n",
              "      background-color: #3B4455;\n",
              "      fill: #D2E3FC;\n",
              "    }\n",
              "\n",
              "    [theme=dark] .colab-df-convert:hover {\n",
              "      background-color: #434B5C;\n",
              "      box-shadow: 0px 1px 3px 1px rgba(0, 0, 0, 0.15);\n",
              "      filter: drop-shadow(0px 1px 2px rgba(0, 0, 0, 0.3));\n",
              "      fill: #FFFFFF;\n",
              "    }\n",
              "  </style>\n",
              "\n",
              "      <script>\n",
              "        const buttonEl =\n",
              "          document.querySelector('#df-0ebb26a0-9f8c-4255-9935-0898727fc3b9 button.colab-df-convert');\n",
              "        buttonEl.style.display =\n",
              "          google.colab.kernel.accessAllowed ? 'block' : 'none';\n",
              "\n",
              "        async function convertToInteractive(key) {\n",
              "          const element = document.querySelector('#df-0ebb26a0-9f8c-4255-9935-0898727fc3b9');\n",
              "          const dataTable =\n",
              "            await google.colab.kernel.invokeFunction('convertToInteractive',\n",
              "                                                     [key], {});\n",
              "          if (!dataTable) return;\n",
              "\n",
              "          const docLinkHtml = 'Like what you see? Visit the ' +\n",
              "            '<a target=\"_blank\" href=https://colab.research.google.com/notebooks/data_table.ipynb>data table notebook</a>'\n",
              "            + ' to learn more about interactive tables.';\n",
              "          element.innerHTML = '';\n",
              "          dataTable['output_type'] = 'display_data';\n",
              "          await google.colab.output.renderOutput(dataTable, element);\n",
              "          const docLink = document.createElement('div');\n",
              "          docLink.innerHTML = docLinkHtml;\n",
              "          element.appendChild(docLink);\n",
              "        }\n",
              "      </script>\n",
              "    </div>\n",
              "  </div>\n",
              "  "
            ]
          },
          "metadata": {},
          "execution_count": 47
        }
      ]
    }
  ],
  "metadata": {
    "accelerator": "GPU",
    "colab": {
      "collapsed_sections": [],
      "machine_shape": "hm",
      "provenance": []
    },
    "gpuClass": "standard",
    "kernelspec": {
      "display_name": "Python 3",
      "name": "python3"
    },
    "language_info": {
      "name": "python"
    }
  },
  "nbformat": 4,
  "nbformat_minor": 0
}